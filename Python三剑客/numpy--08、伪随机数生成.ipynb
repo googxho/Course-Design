{
 "cells": [
  {
   "cell_type": "markdown",
   "metadata": {
    "toc": true
   },
   "source": [
    "<h1>Table of Contents<span class=\"tocSkip\"></span></h1>\n",
    "<div class=\"toc\"><ul class=\"toc-item\"><li><span><a href=\"#5110-龚欣洪\" data-toc-modified-id=\"5110-龚欣洪-1\"><span class=\"toc-item-num\">1&nbsp;&nbsp;</span>5110 龚欣洪</a></span></li><li><span><a href=\"#伪随机数生成\" data-toc-modified-id=\"伪随机数生成-2\"><span class=\"toc-item-num\">2&nbsp;&nbsp;</span>伪随机数生成</a></span></li></ul></div>"
   ]
  },
  {
   "cell_type": "markdown",
   "metadata": {},
   "source": [
    "## 5110 龚欣洪"
   ]
  },
  {
   "cell_type": "markdown",
   "metadata": {},
   "source": [
    "## 伪随机数生成\n",
    "\n",
    "numpy.random模块对Python内置的random进行了补充，增加了一些用于高效生成多种概率分布的样本值的函数\n",
    "\n",
    "之所以被称作伪随机数而不是随机数是因为它们都是通过算法基于随机数生成器种子在确定性的条件下生成的\n",
    "\n",
    "常用函数：\n",
    "\n",
    "rand\n",
    "\n",
    "产生指定形状的均匀分布的样本值\n",
    "\n",
    "randint\n",
    "\n",
    "从给定的上下限范围内选取随机整数\n",
    "\n",
    "randn\n",
    "\n",
    "产生正态分布（平均值为0，标准差为1）的样本值，类似于MATLAB接口\n",
    "\n",
    "binomial\n",
    "\n",
    "产生二项分布的样本值\n",
    "\n",
    "normal\n",
    "\n",
    "产生正态（高斯）分布的样本值\n",
    "\n",
    "beta\n",
    "\n",
    "产生Beta分布的样本值\n",
    "\n",
    "chisquare\n",
    "\n",
    "产生卡方分布的样本值\n",
    "\n",
    "gamma\n",
    "\n",
    "产生Gamma分布的样本值\n",
    "\n",
    "uniform\n",
    "\n",
    "产生在指定范围中均匀分布的样本值\n",
    "\n",
    "seed\n",
    "\n",
    "确定随机数生成器的种子\n",
    "\n",
    "permutation\n",
    "\n",
    "返回一个序列的随机排列或返回一个随机排列的范围\n",
    "\n",
    "shuffle\n",
    "\n",
    "对一个序列就地随机排列"
   ]
  },
  {
   "cell_type": "code",
   "execution_count": 2,
   "metadata": {},
   "outputs": [],
   "source": [
    "import numpy as np"
   ]
  },
  {
   "cell_type": "code",
   "execution_count": 3,
   "metadata": {},
   "outputs": [
    {
     "data": {
      "text/plain": [
       "array([[0.50475483, 0.65682544, 0.06897989, 0.21056902],\n",
       "       [0.63505226, 0.1635267 , 0.47905745, 0.80718836],\n",
       "       [0.35806783, 0.46413667, 0.9917112 , 0.1631511 ]])"
      ]
     },
     "execution_count": 3,
     "metadata": {},
     "output_type": "execute_result"
    }
   ],
   "source": [
    "np.random.rand(3,4)"
   ]
  },
  {
   "cell_type": "code",
   "execution_count": 4,
   "metadata": {},
   "outputs": [
    {
     "data": {
      "text/plain": [
       "array([[1, 4, 2, 1],\n",
       "       [2, 4, 0, 3],\n",
       "       [2, 4, 3, 3]])"
      ]
     },
     "execution_count": 4,
     "metadata": {},
     "output_type": "execute_result"
    }
   ],
   "source": [
    "np.random.randint(5, size=(3, 4))"
   ]
  },
  {
   "cell_type": "code",
   "execution_count": 5,
   "metadata": {},
   "outputs": [
    {
     "data": {
      "text/plain": [
       "array([[ 0.35822541, -1.19694542, -1.70570216,  0.04835115],\n",
       "       [ 0.39177975,  0.06207493, -2.02817166,  0.67127108]])"
      ]
     },
     "execution_count": 5,
     "metadata": {},
     "output_type": "execute_result"
    }
   ],
   "source": [
    "np.random.randn(2, 4)"
   ]
  },
  {
   "cell_type": "code",
   "execution_count": 6,
   "metadata": {},
   "outputs": [
    {
     "data": {
      "text/plain": [
       "array([ 0.23774717,  0.05468947, -0.21176552, -0.07369932, -0.02706925,\n",
       "        0.0970266 ,  0.01564897, -0.01711942, -0.17838058,  0.17502513])"
      ]
     },
     "execution_count": 6,
     "metadata": {},
     "output_type": "execute_result"
    }
   ],
   "source": [
    "mu, sigma = 0, 0.1\n",
    "np.random.normal(mu, sigma, 10)"
   ]
  },
  {
   "cell_type": "code",
   "execution_count": 7,
   "metadata": {},
   "outputs": [
    {
     "data": {
      "text/plain": [
       "array([1.40613182, 1.67496631, 1.11917286, 1.96275203, 1.15569137,\n",
       "       1.35362429, 1.79031751, 1.77271899, 1.49669206, 1.26656403,\n",
       "       1.52928498, 1.97802468, 1.87129622, 1.65375707, 1.3283855 ,\n",
       "       1.86914307, 1.82121458, 1.71314367, 1.81718651, 1.12909938,\n",
       "       1.15243073, 1.4111183 , 1.70100684, 1.19729343, 1.37421649,\n",
       "       1.59498605, 1.97570865, 1.61229127, 1.46308685, 1.3489513 ,\n",
       "       1.17696966, 1.21183155, 1.67908121, 1.23814297, 1.23698886,\n",
       "       1.8674192 , 1.94938264, 1.20473963, 1.0145718 , 1.67716949,\n",
       "       1.82713465, 1.81162843, 1.10976356, 1.57205863, 1.85730528,\n",
       "       1.85212331, 1.82227452, 1.60947446, 1.50661296, 1.6203379 ,\n",
       "       1.71482337, 1.34311118, 1.26360962, 1.90507002, 1.66910951,\n",
       "       1.36669068, 1.85903376, 1.25478309, 1.46717256, 1.80611536,\n",
       "       1.8634703 , 1.27833993, 1.90935929, 1.83722074, 1.60640679,\n",
       "       1.57307627, 1.94335103, 1.78653504, 1.59322796, 1.44684755,\n",
       "       1.90451042, 1.62810348, 1.57950226, 1.08678398, 1.13301788,\n",
       "       1.83855183, 1.75017877, 1.65745514, 1.79202162, 1.96622323,\n",
       "       1.20524098, 1.00400617, 1.03047264, 1.81409099, 1.47300416,\n",
       "       1.4669485 , 1.76127444, 1.41737581, 1.56565557, 1.32422314,\n",
       "       1.43270071, 1.36695718, 1.48183052, 1.58818284, 1.06328592,\n",
       "       1.91158687, 1.8132507 , 1.1428322 , 1.29807454, 1.14051357])"
      ]
     },
     "execution_count": 7,
     "metadata": {},
     "output_type": "execute_result"
    }
   ],
   "source": [
    "# 生成指定范围的样本值\n",
    "np.random.uniform(1, 2, 100)"
   ]
  },
  {
   "cell_type": "code",
   "execution_count": null,
   "metadata": {},
   "outputs": [],
   "source": []
  },
  {
   "cell_type": "code",
   "execution_count": null,
   "metadata": {},
   "outputs": [],
   "source": []
  },
  {
   "cell_type": "code",
   "execution_count": null,
   "metadata": {},
   "outputs": [],
   "source": []
  },
  {
   "cell_type": "code",
   "execution_count": null,
   "metadata": {},
   "outputs": [],
   "source": []
  },
  {
   "cell_type": "code",
   "execution_count": null,
   "metadata": {},
   "outputs": [],
   "source": []
  }
 ],
 "metadata": {
  "kernelspec": {
   "display_name": "Python 3",
   "language": "python",
   "name": "python3"
  },
  "language_info": {
   "codemirror_mode": {
    "name": "ipython",
    "version": 3
   },
   "file_extension": ".py",
   "mimetype": "text/x-python",
   "name": "python",
   "nbconvert_exporter": "python",
   "pygments_lexer": "ipython3",
   "version": "3.7.3"
  },
  "toc": {
   "base_numbering": 1,
   "nav_menu": {},
   "number_sections": true,
   "sideBar": true,
   "skip_h1_title": true,
   "title_cell": "Table of Contents",
   "title_sidebar": "Contents",
   "toc_cell": true,
   "toc_position": {},
   "toc_section_display": true,
   "toc_window_display": false
  }
 },
 "nbformat": 4,
 "nbformat_minor": 2
}
