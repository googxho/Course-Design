{
 "cells": [
  {
   "cell_type": "markdown",
   "metadata": {
    "toc": true
   },
   "source": [
    "<h1>Table of Contents<span class=\"tocSkip\"></span></h1>\n",
    "<div class=\"toc\"><ul class=\"toc-item\"><li><span><a href=\"#总结\" data-toc-modified-id=\"总结-1\"><span class=\"toc-item-num\">1&nbsp;&nbsp;</span>总结</a></span></li><li><span><a href=\"#ndarray的创建方式\" data-toc-modified-id=\"ndarray的创建方式-2\"><span class=\"toc-item-num\">2&nbsp;&nbsp;</span>ndarray的创建方式</a></span><ul class=\"toc-item\"><li><span><a href=\"#np.array()\" data-toc-modified-id=\"np.array()-2.1\"><span class=\"toc-item-num\">2.1&nbsp;&nbsp;</span>np.array()</a></span></li><li><span><a href=\"#np.asarray()\" data-toc-modified-id=\"np.asarray()-2.2\"><span class=\"toc-item-num\">2.2&nbsp;&nbsp;</span>np.asarray()</a></span></li><li><span><a href=\"#np.zeros()\" data-toc-modified-id=\"np.zeros()-2.3\"><span class=\"toc-item-num\">2.3&nbsp;&nbsp;</span>np.zeros()</a></span></li><li><span><a href=\"#np.zeros_like()\" data-toc-modified-id=\"np.zeros_like()-2.4\"><span class=\"toc-item-num\">2.4&nbsp;&nbsp;</span>np.zeros_like()</a></span></li><li><span><a href=\"#np.ones()\" data-toc-modified-id=\"np.ones()-2.5\"><span class=\"toc-item-num\">2.5&nbsp;&nbsp;</span>np.ones()</a></span></li><li><span><a href=\"#np.ones_like()\" data-toc-modified-id=\"np.ones_like()-2.6\"><span class=\"toc-item-num\">2.6&nbsp;&nbsp;</span>np.ones_like()</a></span></li><li><span><a href=\"#np.empty()\" data-toc-modified-id=\"np.empty()-2.7\"><span class=\"toc-item-num\">2.7&nbsp;&nbsp;</span>np.empty()</a></span></li><li><span><a href=\"#np.empty_like()\" data-toc-modified-id=\"np.empty_like()-2.8\"><span class=\"toc-item-num\">2.8&nbsp;&nbsp;</span>np.empty_like()</a></span></li><li><span><a href=\"#np.full()\" data-toc-modified-id=\"np.full()-2.9\"><span class=\"toc-item-num\">2.9&nbsp;&nbsp;</span>np.full()</a></span></li><li><span><a href=\"#np.full_like()\" data-toc-modified-id=\"np.full_like()-2.10\"><span class=\"toc-item-num\">2.10&nbsp;&nbsp;</span>np.full_like()</a></span></li><li><span><a href=\"#np.eye()\" data-toc-modified-id=\"np.eye()-2.11\"><span class=\"toc-item-num\">2.11&nbsp;&nbsp;</span>np.eye()</a></span></li><li><span><a href=\"#np.identity()\" data-toc-modified-id=\"np.identity()-2.12\"><span class=\"toc-item-num\">2.12&nbsp;&nbsp;</span>np.identity()</a></span></li><li><span><a href=\"#np.random\" data-toc-modified-id=\"np.random-2.13\"><span class=\"toc-item-num\">2.13&nbsp;&nbsp;</span>np.random</a></span></li><li><span><a href=\"#np.arange()\" data-toc-modified-id=\"np.arange()-2.14\"><span class=\"toc-item-num\">2.14&nbsp;&nbsp;</span>np.arange()</a></span></li><li><span><a href=\"#np.linspace()\" data-toc-modified-id=\"np.linspace()-2.15\"><span class=\"toc-item-num\">2.15&nbsp;&nbsp;</span>np.linspace()</a></span></li><li><span><a href=\"#np.fromfunction()\" data-toc-modified-id=\"np.fromfunction()-2.16\"><span class=\"toc-item-num\">2.16&nbsp;&nbsp;</span>np.fromfunction()</a></span></li><li><span><a href=\"#np.fromfile()\" data-toc-modified-id=\"np.fromfile()-2.17\"><span class=\"toc-item-num\">2.17&nbsp;&nbsp;</span>np.fromfile()</a></span></li></ul></li></ul></div>"
   ]
  },
  {
   "cell_type": "markdown",
   "metadata": {},
   "source": [
    "## 总结\n",
    "\n",
    "**自学知识点数：**17\n",
    "\n",
    "**代码示例：**17"
   ]
  },
  {
   "cell_type": "markdown",
   "metadata": {},
   "source": [
    "## ndarray的创建方式"
   ]
  },
  {
   "cell_type": "markdown",
   "metadata": {},
   "source": [
    "### np.array()\n",
    "\n",
    "将输入的列表、元组、数组等序列类型转换我ndaray对象"
   ]
  },
  {
   "cell_type": "code",
   "execution_count": 1,
   "metadata": {},
   "outputs": [
    {
     "data": {
      "text/plain": [
       "array([[1, 2, 3],\n",
       "       [4, 5, 6]])"
      ]
     },
     "execution_count": 1,
     "metadata": {},
     "output_type": "execute_result"
    }
   ],
   "source": [
    "import numpy as np\n",
    "\n",
    "# data1也可以是tuple类型\n",
    "# data1可以进行嵌套\n",
    "data = [[1,2,3], [4,5,6]]\n",
    "arr1 = np.array(data)\n",
    "arr1"
   ]
  },
  {
   "cell_type": "markdown",
   "metadata": {},
   "source": [
    "### np.asarray()\n",
    "\n",
    "array()和asarray()都可以将结构数据转化为ndarray，但是主要区别就是当数据源是ndarray时，array仍然会copy出一个副本，占用新的内存，但asarray不会"
   ]
  },
  {
   "cell_type": "code",
   "execution_count": 2,
   "metadata": {},
   "outputs": [
    {
     "data": {
      "text/plain": [
       "array([[1, 2, 3],\n",
       "       [4, 5, 6]])"
      ]
     },
     "execution_count": 2,
     "metadata": {},
     "output_type": "execute_result"
    }
   ],
   "source": [
    "arr2 = np.asarray(arr1)\n",
    "arr2"
   ]
  },
  {
   "cell_type": "markdown",
   "metadata": {},
   "source": [
    "### np.zeros()\n",
    "\n",
    "根据指定形状创建一个全为0的ndarray对象"
   ]
  },
  {
   "cell_type": "code",
   "execution_count": 3,
   "metadata": {},
   "outputs": [
    {
     "data": {
      "text/plain": [
       "array([[0., 0., 0., 0.],\n",
       "       [0., 0., 0., 0.],\n",
       "       [0., 0., 0., 0.]])"
      ]
     },
     "execution_count": 3,
     "metadata": {},
     "output_type": "execute_result"
    }
   ],
   "source": [
    "arr3 = np.zeros([3, 4])\n",
    "arr3"
   ]
  },
  {
   "cell_type": "markdown",
   "metadata": {},
   "source": [
    "### np.zeros_like()\n",
    "\n",
    "传入一个数组作为参数，根据该数组的形状和dtype创建一个全0的ndaray对象"
   ]
  },
  {
   "cell_type": "code",
   "execution_count": 4,
   "metadata": {},
   "outputs": [
    {
     "data": {
      "text/plain": [
       "array([[0, 0, 0],\n",
       "       [0, 0, 0]])"
      ]
     },
     "execution_count": 4,
     "metadata": {},
     "output_type": "execute_result"
    }
   ],
   "source": [
    "arr4 = np.zeros_like(data)\n",
    "arr4"
   ]
  },
  {
   "cell_type": "markdown",
   "metadata": {},
   "source": [
    "### np.ones()\n",
    "\n",
    "根据指定形状创建一个全为1的ndarray对象"
   ]
  },
  {
   "cell_type": "code",
   "execution_count": 5,
   "metadata": {},
   "outputs": [
    {
     "data": {
      "text/plain": [
       "array([[1., 1., 1.],\n",
       "       [1., 1., 1.]])"
      ]
     },
     "execution_count": 5,
     "metadata": {},
     "output_type": "execute_result"
    }
   ],
   "source": [
    "arr5 = np.ones([2, 3])\n",
    "arr5"
   ]
  },
  {
   "cell_type": "markdown",
   "metadata": {},
   "source": [
    "### np.ones_like()\n",
    "\n",
    "传入一个数组作为参数，根据该数组的形状和dtype创建一个全1的ndaray对象"
   ]
  },
  {
   "cell_type": "code",
   "execution_count": 6,
   "metadata": {},
   "outputs": [
    {
     "data": {
      "text/plain": [
       "array([[1, 1, 1],\n",
       "       [1, 1, 1]])"
      ]
     },
     "execution_count": 6,
     "metadata": {},
     "output_type": "execute_result"
    }
   ],
   "source": [
    "arr6 = np.ones_like(data)\n",
    "arr6"
   ]
  },
  {
   "cell_type": "markdown",
   "metadata": {},
   "source": [
    "### np.empty()\n",
    "\n",
    "根据指定形状创建ndarray对象，只分配内存但是不填充任何值"
   ]
  },
  {
   "cell_type": "code",
   "execution_count": 7,
   "metadata": {},
   "outputs": [
    {
     "data": {
      "text/plain": [
       "array([[9.6967423e-312, 0.0000000e+000],\n",
       "       [0.0000000e+000, 0.0000000e+000]])"
      ]
     },
     "execution_count": 7,
     "metadata": {},
     "output_type": "execute_result"
    }
   ],
   "source": [
    "# 可以直接在终端中演示\n",
    "arr7 = np.empty([2, 2]) \n",
    "arr7"
   ]
  },
  {
   "cell_type": "markdown",
   "metadata": {},
   "source": [
    "### np.empty_like()\n",
    "\n",
    "同上"
   ]
  },
  {
   "cell_type": "code",
   "execution_count": 8,
   "metadata": {},
   "outputs": [
    {
     "data": {
      "text/plain": [
       "array([[-145422048,        456,          0],\n",
       "       [         0,          1,        456]])"
      ]
     },
     "execution_count": 8,
     "metadata": {},
     "output_type": "execute_result"
    }
   ],
   "source": [
    "arr8 = np.empty_like(data)\n",
    "arr8"
   ]
  },
  {
   "cell_type": "markdown",
   "metadata": {},
   "source": [
    "### np.full()\n",
    "\n",
    "根据指定形状传建一个ndarray对象，并用fill_value的值进行填充"
   ]
  },
  {
   "cell_type": "code",
   "execution_count": 9,
   "metadata": {},
   "outputs": [
    {
     "data": {
      "text/plain": [
       "array([[3, 3, 3],\n",
       "       [3, 3, 3]])"
      ]
     },
     "execution_count": 9,
     "metadata": {},
     "output_type": "execute_result"
    }
   ],
   "source": [
    "arr9 = np.full([2,3], fill_value=3)\n",
    "arr9"
   ]
  },
  {
   "cell_type": "markdown",
   "metadata": {},
   "source": [
    "### np.full_like()\n",
    "\n",
    "传入一个数组作为参数，根据该数组的形状创建一个ndarray对象，并用fill_value的值进行填充"
   ]
  },
  {
   "cell_type": "code",
   "execution_count": 10,
   "metadata": {},
   "outputs": [
    {
     "data": {
      "text/plain": [
       "array([[8, 8, 8],\n",
       "       [8, 8, 8]])"
      ]
     },
     "execution_count": 10,
     "metadata": {},
     "output_type": "execute_result"
    }
   ],
   "source": [
    "arr10 = np.full_like(data, 8)\n",
    "arr10"
   ]
  },
  {
   "cell_type": "markdown",
   "metadata": {},
   "source": [
    "### np.eye()\n",
    "\n",
    "传入一个整数N，创建一个N * N的单位矩阵"
   ]
  },
  {
   "cell_type": "code",
   "execution_count": 11,
   "metadata": {},
   "outputs": [
    {
     "data": {
      "text/plain": [
       "array([[1., 0., 0., 0., 0.],\n",
       "       [0., 1., 0., 0., 0.],\n",
       "       [0., 0., 1., 0., 0.],\n",
       "       [0., 0., 0., 1., 0.],\n",
       "       [0., 0., 0., 0., 1.]])"
      ]
     },
     "execution_count": 11,
     "metadata": {},
     "output_type": "execute_result"
    }
   ],
   "source": [
    "\"\"\"\n",
    "numpy.eye(N, M=None, k=0, dtype=<class‘float’>, order=’C’)\n",
    "N: 行数\n",
    "M：列数，默认等于N\n",
    "k：对角线索引：0（默认）为主对角线，正值是指上对角线，负值是指到下对角线\n",
    "order: {'C', 'F'}输出是否应存储在主要行（C样式）中或内存中的列主（Fortran样式）顺序\n",
    "\"\"\"\n",
    "arr12 = np.eye(5)\n",
    "arr12"
   ]
  },
  {
   "cell_type": "markdown",
   "metadata": {},
   "source": [
    "### np.identity()\n",
    "\n",
    "传入一个整数N，创建一个N * N的单位矩阵"
   ]
  },
  {
   "cell_type": "code",
   "execution_count": 12,
   "metadata": {},
   "outputs": [
    {
     "data": {
      "text/plain": [
       "array([[1., 0., 0., 0., 0.],\n",
       "       [0., 1., 0., 0., 0.],\n",
       "       [0., 0., 1., 0., 0.],\n",
       "       [0., 0., 0., 1., 0.],\n",
       "       [0., 0., 0., 0., 1.]])"
      ]
     },
     "execution_count": 12,
     "metadata": {},
     "output_type": "execute_result"
    }
   ],
   "source": [
    "# numpy.identity(n, dtype=None)\n",
    "arr11 = np.identity(5)\n",
    "arr11"
   ]
  },
  {
   "cell_type": "markdown",
   "metadata": {},
   "source": [
    "### np.random\n",
    "\n",
    "随机抽样创建"
   ]
  },
  {
   "cell_type": "code",
   "execution_count": 13,
   "metadata": {},
   "outputs": [
    {
     "data": {
      "text/plain": [
       "array([[-0.10692708,  0.80057481,  0.06773064],\n",
       "       [ 0.67000052,  1.61981546, -1.17182764]])"
      ]
     },
     "execution_count": 13,
     "metadata": {},
     "output_type": "execute_result"
    }
   ],
   "source": [
    "arr13 = np.random.randn(2, 3)\n",
    "arr13"
   ]
  },
  {
   "cell_type": "markdown",
   "metadata": {},
   "source": [
    "### np.arange()\n",
    "\n",
    "在给定间隔内返回均匀间隔的值（一维数组）"
   ]
  },
  {
   "cell_type": "code",
   "execution_count": 14,
   "metadata": {},
   "outputs": [
    {
     "data": {
      "text/plain": [
       "array([0, 2, 4, 6, 8])"
      ]
     },
     "execution_count": 14,
     "metadata": {},
     "output_type": "execute_result"
    }
   ],
   "source": [
    "\"\"\"\n",
    "参数\n",
    "start：开始位置，数字，可选，默认值为0\n",
    "stop：结束位置，数字，\n",
    "step：步长，数字，可选，默认为1。如果指定step则必须指定start\n",
    "dtype：类型。不指定则自动推断\n",
    "\"\"\"\n",
    "arr14 = np.arange(start=0, stop=10, step=2)\n",
    "arr14"
   ]
  },
  {
   "cell_type": "markdown",
   "metadata": {},
   "source": [
    "### np.linspace()\n",
    "\n",
    "返回指定间隔内的等距数字。"
   ]
  },
  {
   "cell_type": "code",
   "execution_count": 15,
   "metadata": {},
   "outputs": [
    {
     "data": {
      "text/plain": [
       "array([ 0. ,  2.5,  5. ,  7.5, 10. ])"
      ]
     },
     "execution_count": 15,
     "metadata": {},
     "output_type": "execute_result"
    }
   ],
   "source": [
    "arr15 = np.linspace(0, 10, 5)\n",
    "arr15"
   ]
  },
  {
   "cell_type": "markdown",
   "metadata": {},
   "source": [
    "### np.fromfunction()\n",
    "\n",
    "通过对每个坐标执行函数来构造数组"
   ]
  },
  {
   "cell_type": "code",
   "execution_count": 16,
   "metadata": {},
   "outputs": [
    {
     "data": {
      "text/plain": [
       "array([[ 0,  1,  2,  3,  4],\n",
       "       [10, 11, 12, 13, 14],\n",
       "       [20, 21, 22, 23, 24],\n",
       "       [30, 31, 32, 33, 34]])"
      ]
     },
     "execution_count": 16,
     "metadata": {},
     "output_type": "execute_result"
    }
   ],
   "source": [
    "def fun(x, y):\n",
    "    return x * 10 + y\n",
    "\n",
    "np.fromfunction(fun, (4, 5), dtype=np.int)"
   ]
  },
  {
   "cell_type": "markdown",
   "metadata": {},
   "source": [
    "### np.fromfile()\n",
    "\n",
    "从文本或二进制文件中的数据构造数组\n",
    "\n",
    "np.fromfile(file, dtype=float, count=-1, sep='')\n",
    "\n",
    "file：要打开的文件对象或者文件名\n",
    "\n",
    "dtype：返回数组的数据类型。对于二进制文件，它用于确定文件中项目的大小和字节顺序。错误的数据类型会返回错误的数据\n",
    "\n",
    "count：要读取的项目数。-1表示所有项目（即完整文件）\n",
    "\n",
    "sep：如果文件是文本文件，则表示分隔项之间的分隔符。空（“”）分隔符表示应将文件视为二进制文件。分隔符中的空格（“”）与零个或多个空白字符匹配。仅由空格组成的分隔符必须至少与一个空格匹配"
   ]
  },
  {
   "cell_type": "code",
   "execution_count": 17,
   "metadata": {},
   "outputs": [
    {
     "ename": "FileNotFoundError",
     "evalue": "[Errno 2] No such file or directory: './file/intfile'",
     "output_type": "error",
     "traceback": [
      "\u001b[1;31m---------------------------------------------------------------------------\u001b[0m",
      "\u001b[1;31mFileNotFoundError\u001b[0m                         Traceback (most recent call last)",
      "\u001b[1;32m<ipython-input-17-9762f6644766>\u001b[0m in \u001b[0;36m<module>\u001b[1;34m\u001b[0m\n\u001b[1;32m----> 1\u001b[1;33m \u001b[0mnp\u001b[0m\u001b[1;33m.\u001b[0m\u001b[0mfromfile\u001b[0m\u001b[1;33m(\u001b[0m\u001b[1;34m'./file/intfile'\u001b[0m\u001b[1;33m)\u001b[0m \u001b[1;31m# 默认的dtype是floatdef my_dot(a, b):\u001b[0m\u001b[1;33m\u001b[0m\u001b[1;33m\u001b[0m\u001b[0m\n\u001b[0m\u001b[0;32m      2\u001b[0m \u001b[1;33m\u001b[0m\u001b[0m\n",
      "\u001b[1;31mFileNotFoundError\u001b[0m: [Errno 2] No such file or directory: './file/intfile'"
     ]
    }
   ],
   "source": [
    "np.fromfile('./file/intfile') # 默认的dtype是floatdef my_dot(a, b):\n",
    " "
   ]
  },
  {
   "cell_type": "markdown",
   "metadata": {},
   "source": [
    " np.fromfunction(lambda i,j:i+j,(2, 3))"
   ]
  }
 ],
 "metadata": {
  "kernelspec": {
   "display_name": "Python 3",
   "language": "python",
   "name": "python3"
  },
  "language_info": {
   "codemirror_mode": {
    "name": "ipython",
    "version": 3
   },
   "file_extension": ".py",
   "mimetype": "text/x-python",
   "name": "python",
   "nbconvert_exporter": "python",
   "pygments_lexer": "ipython3",
   "version": "3.7.3"
  },
  "toc": {
   "base_numbering": 1,
   "nav_menu": {},
   "number_sections": true,
   "sideBar": true,
   "skip_h1_title": true,
   "title_cell": "Table of Contents",
   "title_sidebar": "Contents",
   "toc_cell": true,
   "toc_position": {},
   "toc_section_display": true,
   "toc_window_display": true
  }
 },
 "nbformat": 4,
 "nbformat_minor": 2
}
