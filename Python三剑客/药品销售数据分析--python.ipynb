{
 "cells": [
  {
   "cell_type": "markdown",
   "metadata": {
    "toc": true
   },
   "source": [
    "<h1>Table of Contents<span class=\"tocSkip\"></span></h1>\n",
    "<div class=\"toc\"><ul class=\"toc-item\"><li><span><a href=\"#导入原始数据\" data-toc-modified-id=\"导入原始数据-1\"><span class=\"toc-item-num\">1&nbsp;&nbsp;</span>导入原始数据</a></span></li><li><span><a href=\"#查看数据基本信息：\" data-toc-modified-id=\"查看数据基本信息：-2\"><span class=\"toc-item-num\">2&nbsp;&nbsp;</span>查看数据基本信息：</a></span></li><li><span><a href=\"#数据清洗\" data-toc-modified-id=\"数据清洗-3\"><span class=\"toc-item-num\">3&nbsp;&nbsp;</span>数据清洗</a></span><ul class=\"toc-item\"><li><span><a href=\"#（1）选择子集\" data-toc-modified-id=\"（1）选择子集-3.1\"><span class=\"toc-item-num\">3.1&nbsp;&nbsp;</span>（1）选择子集</a></span></li><li><span><a href=\"#（2）列重命名\" data-toc-modified-id=\"（2）列重命名-3.2\"><span class=\"toc-item-num\">3.2&nbsp;&nbsp;</span>（2）列重命名</a></span></li><li><span><a href=\"#（3）缺失值处理\" data-toc-modified-id=\"（3）缺失值处理-3.3\"><span class=\"toc-item-num\">3.3&nbsp;&nbsp;</span>（3）缺失值处理</a></span></li><li><span><a href=\"#（4）数据类型转换\" data-toc-modified-id=\"（4）数据类型转换-3.4\"><span class=\"toc-item-num\">3.4&nbsp;&nbsp;</span>（4）数据类型转换</a></span></li><li><span><a href=\"#（5）数据排序\" data-toc-modified-id=\"（5）数据排序-3.5\"><span class=\"toc-item-num\">3.5&nbsp;&nbsp;</span>（5）数据排序</a></span></li><li><span><a href=\"#（6）异常值处理\" data-toc-modified-id=\"（6）异常值处理-3.6\"><span class=\"toc-item-num\">3.6&nbsp;&nbsp;</span>（6）异常值处理</a></span></li></ul></li><li><span><a href=\"#构建模型及数据可视化\" data-toc-modified-id=\"构建模型及数据可视化-4\"><span class=\"toc-item-num\">4&nbsp;&nbsp;</span>构建模型及数据可视化</a></span><ul class=\"toc-item\"><li><span><a href=\"#（1）业务指标1:月均消费次数\" data-toc-modified-id=\"（1）业务指标1:月均消费次数-4.1\"><span class=\"toc-item-num\">4.1&nbsp;&nbsp;</span>（1）业务指标1:月均消费次数</a></span></li><li><span><a href=\"#（2）业务指标2:月均消费金额\" data-toc-modified-id=\"（2）业务指标2:月均消费金额-4.2\"><span class=\"toc-item-num\">4.2&nbsp;&nbsp;</span>（2）业务指标2:月均消费金额</a></span></li><li><span><a href=\"#（3）客单价\" data-toc-modified-id=\"（3）客单价-4.3\"><span class=\"toc-item-num\">4.3&nbsp;&nbsp;</span>（3）客单价</a></span></li><li><span><a href=\"#（4）消费趋势\" data-toc-modified-id=\"（4）消费趋势-4.4\"><span class=\"toc-item-num\">4.4&nbsp;&nbsp;</span>（4）消费趋势</a></span><ul class=\"toc-item\"><li><span><a href=\"#a.-导入python可视化相关的包\" data-toc-modified-id=\"a.-导入python可视化相关的包-4.4.1\"><span class=\"toc-item-num\">4.4.1&nbsp;&nbsp;</span>a. 导入python可视化相关的包</a></span></li><li><span><a href=\"#b.-分析每天的消费金额\" data-toc-modified-id=\"b.-分析每天的消费金额-4.4.2\"><span class=\"toc-item-num\">4.4.2&nbsp;&nbsp;</span>b. 分析每天的消费金额</a></span></li><li><span><a href=\"#c.-分析每月的消费金额\" data-toc-modified-id=\"c.-分析每月的消费金额-4.4.3\"><span class=\"toc-item-num\">4.4.3&nbsp;&nbsp;</span>c. 分析每月的消费金额</a></span></li><li><span><a href=\"#d.-分析药品销售情况\" data-toc-modified-id=\"d.-分析药品销售情况-4.4.4\"><span class=\"toc-item-num\">4.4.4&nbsp;&nbsp;</span>d. 分析药品销售情况</a></span></li><li><span><a href=\"#e.-每天的消费金额分布情况\" data-toc-modified-id=\"e.-每天的消费金额分布情况-4.4.5\"><span class=\"toc-item-num\">4.4.5&nbsp;&nbsp;</span>e. 每天的消费金额分布情况</a></span></li></ul></li></ul></li></ul></div>"
   ]
  },
  {
   "cell_type": "markdown",
   "metadata": {},
   "source": [
    "数据分析的目的：\n",
    "本篇文章中，假设以朝阳医院2018年销售数据为例，目的是了解朝阳医院在2018年里的销售情况，通过对朝阳区医院的药品销售数据的分析，了解朝阳医院的患者的月均消费次数，月均消费金额、客单价以及消费趋势、需求量前几位的药品等。"
   ]
  },
  {
   "cell_type": "markdown",
   "metadata": {},
   "source": [
    "## 导入原始数据"
   ]
  },
  {
   "cell_type": "code",
   "execution_count": 57,
   "metadata": {},
   "outputs": [
    {
     "data": {
      "text/html": [
       "<div>\n",
       "<style scoped>\n",
       "    .dataframe tbody tr th:only-of-type {\n",
       "        vertical-align: middle;\n",
       "    }\n",
       "\n",
       "    .dataframe tbody tr th {\n",
       "        vertical-align: top;\n",
       "    }\n",
       "\n",
       "    .dataframe thead th {\n",
       "        text-align: right;\n",
       "    }\n",
       "</style>\n",
       "<table border=\"1\" class=\"dataframe\">\n",
       "  <thead>\n",
       "    <tr style=\"text-align: right;\">\n",
       "      <th></th>\n",
       "      <th>购药时间</th>\n",
       "      <th>社保卡号</th>\n",
       "      <th>商品编码</th>\n",
       "      <th>商品名称</th>\n",
       "      <th>销售数量</th>\n",
       "      <th>应收金额</th>\n",
       "      <th>实收金额</th>\n",
       "    </tr>\n",
       "  </thead>\n",
       "  <tbody>\n",
       "    <tr>\n",
       "      <th>0</th>\n",
       "      <td>2018-01-01 星期五</td>\n",
       "      <td>001616528</td>\n",
       "      <td>236701</td>\n",
       "      <td>强力VC银翘片</td>\n",
       "      <td>6</td>\n",
       "      <td>82.8</td>\n",
       "      <td>69</td>\n",
       "    </tr>\n",
       "    <tr>\n",
       "      <th>1</th>\n",
       "      <td>2018-01-02 星期六</td>\n",
       "      <td>001616528</td>\n",
       "      <td>236701</td>\n",
       "      <td>清热解毒口服液</td>\n",
       "      <td>1</td>\n",
       "      <td>28</td>\n",
       "      <td>24.64</td>\n",
       "    </tr>\n",
       "    <tr>\n",
       "      <th>2</th>\n",
       "      <td>2018-01-06 星期三</td>\n",
       "      <td>0012602828</td>\n",
       "      <td>236701</td>\n",
       "      <td>感康</td>\n",
       "      <td>2</td>\n",
       "      <td>16.8</td>\n",
       "      <td>15</td>\n",
       "    </tr>\n",
       "    <tr>\n",
       "      <th>3</th>\n",
       "      <td>2018-01-11 星期一</td>\n",
       "      <td>0010070343428</td>\n",
       "      <td>236701</td>\n",
       "      <td>三九感冒灵</td>\n",
       "      <td>1</td>\n",
       "      <td>28</td>\n",
       "      <td>28</td>\n",
       "    </tr>\n",
       "    <tr>\n",
       "      <th>4</th>\n",
       "      <td>2018-01-15 星期五</td>\n",
       "      <td>00101554328</td>\n",
       "      <td>236701</td>\n",
       "      <td>三九感冒灵</td>\n",
       "      <td>8</td>\n",
       "      <td>224</td>\n",
       "      <td>208</td>\n",
       "    </tr>\n",
       "  </tbody>\n",
       "</table>\n",
       "</div>"
      ],
      "text/plain": [
       "             购药时间           社保卡号    商品编码     商品名称 销售数量  应收金额   实收金额\n",
       "0  2018-01-01 星期五      001616528  236701  强力VC银翘片    6  82.8     69\n",
       "1  2018-01-02 星期六      001616528  236701  清热解毒口服液    1    28  24.64\n",
       "2  2018-01-06 星期三     0012602828  236701       感康    2  16.8     15\n",
       "3  2018-01-11 星期一  0010070343428  236701    三九感冒灵    1    28     28\n",
       "4  2018-01-15 星期五    00101554328  236701    三九感冒灵    8   224    208"
      ]
     },
     "execution_count": 57,
     "metadata": {},
     "output_type": "execute_result"
    }
   ],
   "source": [
    "import numpy as np\n",
    "from pandas import Series,DataFrame\n",
    "import pandas as pd\n",
    "#导入数据\n",
    "file_name = '朝阳医院2018年销售数据.xlsx'\n",
    "# 使用ExcelFile()时需要传入目标excel文件所在路径及文件名称\n",
    "xls = pd.ExcelFile(file_name)\n",
    "# 使用parse()可以根据传入的sheet名称来提取对应的表格信息\n",
    "dataDF = xls.parse('Sheet1',dtype='object')\n",
    "# 输出前五行数据\n",
    "dataDF.head()"
   ]
  },
  {
   "cell_type": "code",
   "execution_count": 58,
   "metadata": {},
   "outputs": [
    {
     "name": "stdout",
     "output_type": "stream",
     "text": [
      "Sheet1\n"
     ]
    }
   ],
   "source": [
    "#　使用sheet_names来查看当前表格中包含的所有sheet名称（按顺序）\n",
    "print(xls.sheet_names[0])"
   ]
  },
  {
   "cell_type": "markdown",
   "metadata": {},
   "source": [
    "## 查看数据基本信息："
   ]
  },
  {
   "cell_type": "code",
   "execution_count": 59,
   "metadata": {},
   "outputs": [
    {
     "name": "stdout",
     "output_type": "stream",
     "text": [
      "(6578, 7)\n",
      "RangeIndex(start=0, stop=6578, step=1)\n",
      "Index(['购药时间', '社保卡号', '商品编码', '商品名称', '销售数量', '应收金额', '实收金额'], dtype='object')\n",
      "购药时间    6576\n",
      "社保卡号    6576\n",
      "商品编码    6577\n",
      "商品名称    6577\n",
      "销售数量    6577\n",
      "应收金额    6577\n",
      "实收金额    6577\n",
      "dtype: int64\n"
     ]
    }
   ],
   "source": [
    "#查看基本信息\n",
    "#查看数据几行几列\n",
    "print(dataDF.shape)\n",
    "#查看索引\n",
    "print(dataDF.index)\n",
    "#查看每一列的列表头内容\n",
    "print(dataDF.columns)\n",
    "#查看每一列数据统计数目\n",
    "print(dataDF.count())"
   ]
  },
  {
   "cell_type": "markdown",
   "metadata": {},
   "source": [
    "## 数据清洗\n",
    "\n",
    "数据清洗过程包括：选择子集、列名重命名、缺失数据处理、数据类型转换、数据排序及异常值处理"
   ]
  },
  {
   "cell_type": "markdown",
   "metadata": {},
   "source": [
    "### （1）选择子集\n",
    "\n",
    "在我们获取到的数据中，可能数据量非常庞大，并不是每一列都有价值都需要分析，这时候就需要从整个数据中选取合适的子集进行分析，这样能从数据中获取最大价值。在本次案例中不需要选取子集，暂时可以忽略这一步。"
   ]
  },
  {
   "cell_type": "markdown",
   "metadata": {},
   "source": [
    "### （2）列重命名\n",
    "在数据分析过程中，有些列名和数据容易混淆或产生歧义，不利于数据分析，这时候需要把列名换成容易理解的名称，可以采用rename函数实现："
   ]
  },
  {
   "cell_type": "code",
   "execution_count": 60,
   "metadata": {
    "scrolled": true
   },
   "outputs": [
    {
     "data": {
      "text/html": [
       "<div>\n",
       "<style scoped>\n",
       "    .dataframe tbody tr th:only-of-type {\n",
       "        vertical-align: middle;\n",
       "    }\n",
       "\n",
       "    .dataframe tbody tr th {\n",
       "        vertical-align: top;\n",
       "    }\n",
       "\n",
       "    .dataframe thead th {\n",
       "        text-align: right;\n",
       "    }\n",
       "</style>\n",
       "<table border=\"1\" class=\"dataframe\">\n",
       "  <thead>\n",
       "    <tr style=\"text-align: right;\">\n",
       "      <th></th>\n",
       "      <th>销售时间</th>\n",
       "      <th>社保卡号</th>\n",
       "      <th>商品编码</th>\n",
       "      <th>商品名称</th>\n",
       "      <th>销售数量</th>\n",
       "      <th>应收金额</th>\n",
       "      <th>实收金额</th>\n",
       "    </tr>\n",
       "  </thead>\n",
       "  <tbody>\n",
       "    <tr>\n",
       "      <th>0</th>\n",
       "      <td>2018-01-01 星期五</td>\n",
       "      <td>001616528</td>\n",
       "      <td>236701</td>\n",
       "      <td>强力VC银翘片</td>\n",
       "      <td>6</td>\n",
       "      <td>82.8</td>\n",
       "      <td>69</td>\n",
       "    </tr>\n",
       "    <tr>\n",
       "      <th>1</th>\n",
       "      <td>2018-01-02 星期六</td>\n",
       "      <td>001616528</td>\n",
       "      <td>236701</td>\n",
       "      <td>清热解毒口服液</td>\n",
       "      <td>1</td>\n",
       "      <td>28</td>\n",
       "      <td>24.64</td>\n",
       "    </tr>\n",
       "    <tr>\n",
       "      <th>2</th>\n",
       "      <td>2018-01-06 星期三</td>\n",
       "      <td>0012602828</td>\n",
       "      <td>236701</td>\n",
       "      <td>感康</td>\n",
       "      <td>2</td>\n",
       "      <td>16.8</td>\n",
       "      <td>15</td>\n",
       "    </tr>\n",
       "    <tr>\n",
       "      <th>3</th>\n",
       "      <td>2018-01-11 星期一</td>\n",
       "      <td>0010070343428</td>\n",
       "      <td>236701</td>\n",
       "      <td>三九感冒灵</td>\n",
       "      <td>1</td>\n",
       "      <td>28</td>\n",
       "      <td>28</td>\n",
       "    </tr>\n",
       "    <tr>\n",
       "      <th>4</th>\n",
       "      <td>2018-01-15 星期五</td>\n",
       "      <td>00101554328</td>\n",
       "      <td>236701</td>\n",
       "      <td>三九感冒灵</td>\n",
       "      <td>8</td>\n",
       "      <td>224</td>\n",
       "      <td>208</td>\n",
       "    </tr>\n",
       "  </tbody>\n",
       "</table>\n",
       "</div>"
      ],
      "text/plain": [
       "             销售时间           社保卡号    商品编码     商品名称 销售数量  应收金额   实收金额\n",
       "0  2018-01-01 星期五      001616528  236701  强力VC银翘片    6  82.8     69\n",
       "1  2018-01-02 星期六      001616528  236701  清热解毒口服液    1    28  24.64\n",
       "2  2018-01-06 星期三     0012602828  236701       感康    2  16.8     15\n",
       "3  2018-01-11 星期一  0010070343428  236701    三九感冒灵    1    28     28\n",
       "4  2018-01-15 星期五    00101554328  236701    三九感冒灵    8   224    208"
      ]
     },
     "execution_count": 60,
     "metadata": {},
     "output_type": "execute_result"
    }
   ],
   "source": [
    "#列重命名\n",
    "dataDF.rename(columns={'购药时间':'销售时间'},inplace=True)\n",
    "dataDF.head()"
   ]
  },
  {
   "cell_type": "markdown",
   "metadata": {},
   "source": [
    "### （3）缺失值处理\n",
    "获取的数据中很有可能存在缺失值，通过查看基本信息可以推测“购药时间”和“社保卡号”这两列存在缺失值，如果不处理这些缺失值会干扰后面的数据分析结果。\n",
    "\n",
    "缺失数据常用的处理方式为删除含有缺失数据的记录或者利用算法去补全缺失数据。\n",
    "\n",
    "在本次案例中为求方便，直接使用dropna函数删除缺失数据，具体如下："
   ]
  },
  {
   "cell_type": "code",
   "execution_count": 61,
   "metadata": {},
   "outputs": [
    {
     "name": "stdout",
     "output_type": "stream",
     "text": [
      "删除缺失值前: (6578, 7)\n",
      "<class 'pandas.core.frame.DataFrame'>\n",
      "RangeIndex: 6578 entries, 0 to 6577\n",
      "Data columns (total 7 columns):\n",
      "销售时间    6576 non-null object\n",
      "社保卡号    6576 non-null object\n",
      "商品编码    6577 non-null object\n",
      "商品名称    6577 non-null object\n",
      "销售数量    6577 non-null object\n",
      "应收金额    6577 non-null object\n",
      "实收金额    6577 non-null object\n",
      "dtypes: object(7)\n",
      "memory usage: 359.8+ KB\n",
      "None\n",
      "\n",
      "删除缺失值后 (6575, 7)\n",
      "<class 'pandas.core.frame.DataFrame'>\n",
      "Int64Index: 6575 entries, 0 to 6577\n",
      "Data columns (total 7 columns):\n",
      "销售时间    6575 non-null object\n",
      "社保卡号    6575 non-null object\n",
      "商品编码    6575 non-null object\n",
      "商品名称    6575 non-null object\n",
      "销售数量    6575 non-null object\n",
      "应收金额    6575 non-null object\n",
      "实收金额    6575 non-null object\n",
      "dtypes: object(7)\n",
      "memory usage: 410.9+ KB\n",
      "None\n"
     ]
    }
   ],
   "source": [
    "#缺失值处理\n",
    "print('删除缺失值前:', dataDF.shape)\n",
    "# 使用info查看数据信息,\n",
    "print(dataDF.info())\n",
    "#删除缺失值\n",
    "dataDF = dataDF.dropna(subset=['销售时间','社保卡号'], how='any')\n",
    "print('\\n删除缺失值后',dataDF.shape)\n",
    "print(dataDF.info())"
   ]
  },
  {
   "cell_type": "markdown",
   "metadata": {},
   "source": [
    "### （4）数据类型转换\n",
    "在导入数据时为了防止导入不进来，会强制所有数据都是object类型，但实际数据分析过程中“销售数量”，“应收金额”，“实收金额”，这些列需要浮点型（float）数据，“销售时间”需要改成时间格式，因此需要对数据类型进行转换。\n",
    "\n",
    "可以使用astype()函数转为浮点型数据："
   ]
  },
  {
   "cell_type": "code",
   "execution_count": 62,
   "metadata": {},
   "outputs": [
    {
     "name": "stdout",
     "output_type": "stream",
     "text": [
      "销售时间     object\n",
      "社保卡号     object\n",
      "商品编码     object\n",
      "商品名称     object\n",
      "销售数量    float64\n",
      "应收金额    float64\n",
      "实收金额    float64\n",
      "dtype: object\n"
     ]
    }
   ],
   "source": [
    "#数据类型转换\n",
    "dataDF['销售数量'] = dataDF['销售数量'].astype('float')\n",
    "dataDF['应收金额'] = dataDF['应收金额'].astype('float')\n",
    "dataDF['实收金额'] = dataDF['实收金额'].astype('float')\n",
    "print(dataDF.dtypes)"
   ]
  },
  {
   "cell_type": "markdown",
   "metadata": {},
   "source": [
    "**在“销售时间”这一列数据中存在星期这样的数据，但在数据分析过程中不需要用到，因此要把销售时间列中日期和星期使用split函数进行分割，分割后的时间，返回的是Series数据类型：**"
   ]
  },
  {
   "cell_type": "code",
   "execution_count": 63,
   "metadata": {},
   "outputs": [
    {
     "data": {
      "text/html": [
       "<div>\n",
       "<style scoped>\n",
       "    .dataframe tbody tr th:only-of-type {\n",
       "        vertical-align: middle;\n",
       "    }\n",
       "\n",
       "    .dataframe tbody tr th {\n",
       "        vertical-align: top;\n",
       "    }\n",
       "\n",
       "    .dataframe thead th {\n",
       "        text-align: right;\n",
       "    }\n",
       "</style>\n",
       "<table border=\"1\" class=\"dataframe\">\n",
       "  <thead>\n",
       "    <tr style=\"text-align: right;\">\n",
       "      <th></th>\n",
       "      <th>销售时间</th>\n",
       "      <th>社保卡号</th>\n",
       "      <th>商品编码</th>\n",
       "      <th>商品名称</th>\n",
       "      <th>销售数量</th>\n",
       "      <th>应收金额</th>\n",
       "      <th>实收金额</th>\n",
       "    </tr>\n",
       "  </thead>\n",
       "  <tbody>\n",
       "    <tr>\n",
       "      <th>0</th>\n",
       "      <td>2018-01-01</td>\n",
       "      <td>001616528</td>\n",
       "      <td>236701</td>\n",
       "      <td>强力VC银翘片</td>\n",
       "      <td>6.0</td>\n",
       "      <td>82.8</td>\n",
       "      <td>69.00</td>\n",
       "    </tr>\n",
       "    <tr>\n",
       "      <th>1</th>\n",
       "      <td>2018-01-02</td>\n",
       "      <td>001616528</td>\n",
       "      <td>236701</td>\n",
       "      <td>清热解毒口服液</td>\n",
       "      <td>1.0</td>\n",
       "      <td>28.0</td>\n",
       "      <td>24.64</td>\n",
       "    </tr>\n",
       "    <tr>\n",
       "      <th>2</th>\n",
       "      <td>2018-01-06</td>\n",
       "      <td>0012602828</td>\n",
       "      <td>236701</td>\n",
       "      <td>感康</td>\n",
       "      <td>2.0</td>\n",
       "      <td>16.8</td>\n",
       "      <td>15.00</td>\n",
       "    </tr>\n",
       "    <tr>\n",
       "      <th>3</th>\n",
       "      <td>2018-01-11</td>\n",
       "      <td>0010070343428</td>\n",
       "      <td>236701</td>\n",
       "      <td>三九感冒灵</td>\n",
       "      <td>1.0</td>\n",
       "      <td>28.0</td>\n",
       "      <td>28.00</td>\n",
       "    </tr>\n",
       "    <tr>\n",
       "      <th>4</th>\n",
       "      <td>2018-01-15</td>\n",
       "      <td>00101554328</td>\n",
       "      <td>236701</td>\n",
       "      <td>三九感冒灵</td>\n",
       "      <td>8.0</td>\n",
       "      <td>224.0</td>\n",
       "      <td>208.00</td>\n",
       "    </tr>\n",
       "  </tbody>\n",
       "</table>\n",
       "</div>"
      ],
      "text/plain": [
       "         销售时间           社保卡号    商品编码     商品名称  销售数量   应收金额    实收金额\n",
       "0  2018-01-01      001616528  236701  强力VC银翘片   6.0   82.8   69.00\n",
       "1  2018-01-02      001616528  236701  清热解毒口服液   1.0   28.0   24.64\n",
       "2  2018-01-06     0012602828  236701       感康   2.0   16.8   15.00\n",
       "3  2018-01-11  0010070343428  236701    三九感冒灵   1.0   28.0   28.00\n",
       "4  2018-01-15    00101554328  236701    三九感冒灵   8.0  224.0  208.00"
      ]
     },
     "execution_count": 63,
     "metadata": {},
     "output_type": "execute_result"
    }
   ],
   "source": [
    "'''\n",
    "定义函数：分割销售日期，提取销售日期\n",
    "输入：timeColSer 销售时间这一列，Series数据类型，例‘2018-01-01 星期五’\n",
    "输出：分割后的时间，返回Series数据类型，例‘2018-01-01’\n",
    "'''\n",
    "def splitSaletime(timeColSer):\n",
    "    timeList=[]\n",
    "    \n",
    "    for value in timeColSer:\n",
    "        dateStr=value.split(' ')[0] #用空格进行分割\n",
    "        timeList.append(dateStr)\n",
    "\n",
    "    timeSer=pd.Series(timeList)    #将列表转行为一维数据Series类型\n",
    "    return timeSer\n",
    "\n",
    "#获取“销售时间”这一列\n",
    "timeSer = dataDF.loc[:,'销售时间']\n",
    "\n",
    "#对字符串进行分割，提取销售日期\n",
    "dateSer = splitSaletime(timeSer)\n",
    "\n",
    "#修改销售时间这一列的值\n",
    "dataDF.loc[:,'销售时间'] = dateSer\n",
    "dataDF.head()\n",
    "\n"
   ]
  },
  {
   "cell_type": "code",
   "execution_count": 64,
   "metadata": {},
   "outputs": [
    {
     "name": "stdout",
     "output_type": "stream",
     "text": [
      "销售时间    datetime64[ns]\n",
      "社保卡号            object\n",
      "商品编码            object\n",
      "商品名称            object\n",
      "销售数量           float64\n",
      "应收金额           float64\n",
      "实收金额           float64\n",
      "dtype: object\n"
     ]
    }
   ],
   "source": [
    "'''\n",
    "数据类型转换:字符串转换为日期\n",
    "\n",
    "把切割后的日期转为时间格式，方便后面的数据统计:\n",
    "'''\n",
    "#errors='coerce' 如果原始数据不符合日期的格式，转换后的值为空值NaT\n",
    "dataDF.loc[:,'销售时间']=pd.to_datetime(dataDF.loc[:,'销售时间'],format='%Y-%m-%d', errors='coerce')\n",
    "#dataDF.loc[:,'销售时间'] = pd.to_datetime(dataDF.loc[:,'销售时间'], format='%y-%m-%d', errors='coerce')\n",
    "\n",
    "print(dataDF.dtypes)"
   ]
  },
  {
   "cell_type": "code",
   "execution_count": 65,
   "metadata": {},
   "outputs": [
    {
     "data": {
      "text/plain": [
       "销售时间    26\n",
       "社保卡号     0\n",
       "商品编码     0\n",
       "商品名称     0\n",
       "销售数量     0\n",
       "应收金额     0\n",
       "实收金额     0\n",
       "dtype: int64"
      ]
     },
     "execution_count": 65,
     "metadata": {},
     "output_type": "execute_result"
    }
   ],
   "source": [
    "dataDF.isnull().sum()"
   ]
  },
  {
   "cell_type": "code",
   "execution_count": 66,
   "metadata": {},
   "outputs": [
    {
     "name": "stdout",
     "output_type": "stream",
     "text": [
      "<class 'pandas.core.frame.DataFrame'>\n",
      "Int64Index: 6549 entries, 0 to 6573\n",
      "Data columns (total 7 columns):\n",
      "销售时间    6549 non-null datetime64[ns]\n",
      "社保卡号    6549 non-null object\n",
      "商品编码    6549 non-null object\n",
      "商品名称    6549 non-null object\n",
      "销售数量    6549 non-null float64\n",
      "应收金额    6549 non-null float64\n",
      "实收金额    6549 non-null float64\n",
      "dtypes: datetime64[ns](1), float64(3), object(3)\n",
      "memory usage: 409.3+ KB\n"
     ]
    }
   ],
   "source": [
    "'''\n",
    "转换日期过程中不符合日期格式的数值会被转换为空值\n",
    "删除含有NaT的空行\n",
    "'''\n",
    "dataDF = dataDF.dropna(subset=['销售时间','社保卡号'],how='any')\n",
    "datasDF = dataDF.reset_index(drop = True)\n",
    "dataDF.info()"
   ]
  },
  {
   "cell_type": "code",
   "execution_count": 67,
   "metadata": {},
   "outputs": [
    {
     "data": {
      "text/plain": [
       "销售时间    datetime64[ns]\n",
       "社保卡号            object\n",
       "商品编码            object\n",
       "商品名称            object\n",
       "销售数量           float64\n",
       "应收金额           float64\n",
       "实收金额           float64\n",
       "dtype: object"
      ]
     },
     "execution_count": 67,
     "metadata": {},
     "output_type": "execute_result"
    }
   ],
   "source": [
    "#字符串转日期\n",
    "#dataDF.loc[:,'销售时间'] = pd.to_datetime(dataDF.loc[:,'销售时间'], format='%y-%m-%d', errors='coerce')\n",
    "#print(dataDF.dtypes)\n",
    "#在日期转换过程中不符合日期格式的会转换为空值，这里需要删除\n",
    "#dataDF = dataDF.dropna(subset=['销售时间','社保卡号'], how='any')\n",
    "# dataDF.head()\n",
    "dataDF.dtypes"
   ]
  },
  {
   "cell_type": "markdown",
   "metadata": {},
   "source": [
    "### （5）数据排序\n",
    "此时时间是没有按顺序排列的，所以还是需要排序一下，排序之后索引会被打乱，所以也需要重置一下索引。\n",
    "\n",
    "其中by:表示按哪一列进行排序，ascending=True表示升序排列，ascending=False表示降序排列"
   ]
  },
  {
   "cell_type": "code",
   "execution_count": 68,
   "metadata": {},
   "outputs": [
    {
     "data": {
      "text/html": [
       "<div>\n",
       "<style scoped>\n",
       "    .dataframe tbody tr th:only-of-type {\n",
       "        vertical-align: middle;\n",
       "    }\n",
       "\n",
       "    .dataframe tbody tr th {\n",
       "        vertical-align: top;\n",
       "    }\n",
       "\n",
       "    .dataframe thead th {\n",
       "        text-align: right;\n",
       "    }\n",
       "</style>\n",
       "<table border=\"1\" class=\"dataframe\">\n",
       "  <thead>\n",
       "    <tr style=\"text-align: right;\">\n",
       "      <th></th>\n",
       "      <th>销售时间</th>\n",
       "      <th>社保卡号</th>\n",
       "      <th>商品编码</th>\n",
       "      <th>商品名称</th>\n",
       "      <th>销售数量</th>\n",
       "      <th>应收金额</th>\n",
       "      <th>实收金额</th>\n",
       "    </tr>\n",
       "  </thead>\n",
       "  <tbody>\n",
       "    <tr>\n",
       "      <th>0</th>\n",
       "      <td>2018-01-01</td>\n",
       "      <td>001616528</td>\n",
       "      <td>236701</td>\n",
       "      <td>强力VC银翘片</td>\n",
       "      <td>6.0</td>\n",
       "      <td>82.8</td>\n",
       "      <td>69.0</td>\n",
       "    </tr>\n",
       "    <tr>\n",
       "      <th>1</th>\n",
       "      <td>2018-01-01</td>\n",
       "      <td>0010616728</td>\n",
       "      <td>865099</td>\n",
       "      <td>硝苯地平片(心痛定)</td>\n",
       "      <td>2.0</td>\n",
       "      <td>3.4</td>\n",
       "      <td>3.0</td>\n",
       "    </tr>\n",
       "    <tr>\n",
       "      <th>2</th>\n",
       "      <td>2018-01-01</td>\n",
       "      <td>0010073966328</td>\n",
       "      <td>861409</td>\n",
       "      <td>非洛地平缓释片(波依定)</td>\n",
       "      <td>5.0</td>\n",
       "      <td>162.5</td>\n",
       "      <td>145.0</td>\n",
       "    </tr>\n",
       "    <tr>\n",
       "      <th>3</th>\n",
       "      <td>2018-01-01</td>\n",
       "      <td>0010073966328</td>\n",
       "      <td>866634</td>\n",
       "      <td>硝苯地平控释片(欣然)</td>\n",
       "      <td>6.0</td>\n",
       "      <td>111.0</td>\n",
       "      <td>92.5</td>\n",
       "    </tr>\n",
       "    <tr>\n",
       "      <th>4</th>\n",
       "      <td>2018-01-01</td>\n",
       "      <td>0010014289328</td>\n",
       "      <td>866851</td>\n",
       "      <td>缬沙坦分散片(易达乐)</td>\n",
       "      <td>1.0</td>\n",
       "      <td>26.0</td>\n",
       "      <td>23.0</td>\n",
       "    </tr>\n",
       "  </tbody>\n",
       "</table>\n",
       "</div>"
      ],
      "text/plain": [
       "        销售时间           社保卡号    商品编码          商品名称  销售数量   应收金额   实收金额\n",
       "0 2018-01-01      001616528  236701       强力VC银翘片   6.0   82.8   69.0\n",
       "1 2018-01-01     0010616728  865099    硝苯地平片(心痛定)   2.0    3.4    3.0\n",
       "2 2018-01-01  0010073966328  861409  非洛地平缓释片(波依定)   5.0  162.5  145.0\n",
       "3 2018-01-01  0010073966328  866634   硝苯地平控释片(欣然)   6.0  111.0   92.5\n",
       "4 2018-01-01  0010014289328  866851   缬沙坦分散片(易达乐)   1.0   26.0   23.0"
      ]
     },
     "execution_count": 68,
     "metadata": {},
     "output_type": "execute_result"
    }
   ],
   "source": [
    "#数据排序\n",
    "dataDF = dataDF.sort_values(by='销售时间', ascending=True)\n",
    "dataDF = dataDF.reset_index(drop=True)\n",
    "dataDF.head()"
   ]
  },
  {
   "cell_type": "markdown",
   "metadata": {},
   "source": [
    "### （6）异常值处理\n",
    "先查看数据的描述统计信息"
   ]
  },
  {
   "cell_type": "code",
   "execution_count": 69,
   "metadata": {},
   "outputs": [
    {
     "data": {
      "text/html": [
       "<div>\n",
       "<style scoped>\n",
       "    .dataframe tbody tr th:only-of-type {\n",
       "        vertical-align: middle;\n",
       "    }\n",
       "\n",
       "    .dataframe tbody tr th {\n",
       "        vertical-align: top;\n",
       "    }\n",
       "\n",
       "    .dataframe thead th {\n",
       "        text-align: right;\n",
       "    }\n",
       "</style>\n",
       "<table border=\"1\" class=\"dataframe\">\n",
       "  <thead>\n",
       "    <tr style=\"text-align: right;\">\n",
       "      <th></th>\n",
       "      <th>销售数量</th>\n",
       "      <th>应收金额</th>\n",
       "      <th>实收金额</th>\n",
       "    </tr>\n",
       "  </thead>\n",
       "  <tbody>\n",
       "    <tr>\n",
       "      <th>count</th>\n",
       "      <td>6549.000000</td>\n",
       "      <td>6549.000000</td>\n",
       "      <td>6549.000000</td>\n",
       "    </tr>\n",
       "    <tr>\n",
       "      <th>mean</th>\n",
       "      <td>2.384486</td>\n",
       "      <td>50.449076</td>\n",
       "      <td>46.284370</td>\n",
       "    </tr>\n",
       "    <tr>\n",
       "      <th>std</th>\n",
       "      <td>2.375227</td>\n",
       "      <td>87.696401</td>\n",
       "      <td>81.058426</td>\n",
       "    </tr>\n",
       "    <tr>\n",
       "      <th>min</th>\n",
       "      <td>-10.000000</td>\n",
       "      <td>-374.000000</td>\n",
       "      <td>-374.000000</td>\n",
       "    </tr>\n",
       "    <tr>\n",
       "      <th>25%</th>\n",
       "      <td>1.000000</td>\n",
       "      <td>14.000000</td>\n",
       "      <td>12.320000</td>\n",
       "    </tr>\n",
       "    <tr>\n",
       "      <th>50%</th>\n",
       "      <td>2.000000</td>\n",
       "      <td>28.000000</td>\n",
       "      <td>26.500000</td>\n",
       "    </tr>\n",
       "    <tr>\n",
       "      <th>75%</th>\n",
       "      <td>2.000000</td>\n",
       "      <td>59.600000</td>\n",
       "      <td>53.000000</td>\n",
       "    </tr>\n",
       "    <tr>\n",
       "      <th>max</th>\n",
       "      <td>50.000000</td>\n",
       "      <td>2950.000000</td>\n",
       "      <td>2650.000000</td>\n",
       "    </tr>\n",
       "  </tbody>\n",
       "</table>\n",
       "</div>"
      ],
      "text/plain": [
       "              销售数量         应收金额         实收金额\n",
       "count  6549.000000  6549.000000  6549.000000\n",
       "mean      2.384486    50.449076    46.284370\n",
       "std       2.375227    87.696401    81.058426\n",
       "min     -10.000000  -374.000000  -374.000000\n",
       "25%       1.000000    14.000000    12.320000\n",
       "50%       2.000000    28.000000    26.500000\n",
       "75%       2.000000    59.600000    53.000000\n",
       "max      50.000000  2950.000000  2650.000000"
      ]
     },
     "execution_count": 69,
     "metadata": {},
     "output_type": "execute_result"
    }
   ],
   "source": [
    "#查看描述统计信息\n",
    "dataDF.describe()"
   ]
  },
  {
   "cell_type": "markdown",
   "metadata": {},
   "source": [
    "通过描述统计信息可以看到，“销售数量”、“应收金额”、“实收金额”这三列数据的最小值出现了负数，这明显不符合常理，数据中存在异常值的干扰，因此要对数据进一步处理，以排除异常值的影响："
   ]
  },
  {
   "cell_type": "code",
   "execution_count": 70,
   "metadata": {},
   "outputs": [
    {
     "data": {
      "text/html": [
       "<div>\n",
       "<style scoped>\n",
       "    .dataframe tbody tr th:only-of-type {\n",
       "        vertical-align: middle;\n",
       "    }\n",
       "\n",
       "    .dataframe tbody tr th {\n",
       "        vertical-align: top;\n",
       "    }\n",
       "\n",
       "    .dataframe thead th {\n",
       "        text-align: right;\n",
       "    }\n",
       "</style>\n",
       "<table border=\"1\" class=\"dataframe\">\n",
       "  <thead>\n",
       "    <tr style=\"text-align: right;\">\n",
       "      <th></th>\n",
       "      <th>销售数量</th>\n",
       "      <th>应收金额</th>\n",
       "      <th>实收金额</th>\n",
       "    </tr>\n",
       "  </thead>\n",
       "  <tbody>\n",
       "    <tr>\n",
       "      <th>count</th>\n",
       "      <td>6506.000000</td>\n",
       "      <td>6506.000000</td>\n",
       "      <td>6506.000000</td>\n",
       "    </tr>\n",
       "    <tr>\n",
       "      <th>mean</th>\n",
       "      <td>2.405626</td>\n",
       "      <td>50.927897</td>\n",
       "      <td>46.727653</td>\n",
       "    </tr>\n",
       "    <tr>\n",
       "      <th>std</th>\n",
       "      <td>2.364565</td>\n",
       "      <td>87.650282</td>\n",
       "      <td>80.997726</td>\n",
       "    </tr>\n",
       "    <tr>\n",
       "      <th>min</th>\n",
       "      <td>1.000000</td>\n",
       "      <td>1.200000</td>\n",
       "      <td>0.030000</td>\n",
       "    </tr>\n",
       "    <tr>\n",
       "      <th>25%</th>\n",
       "      <td>1.000000</td>\n",
       "      <td>14.000000</td>\n",
       "      <td>12.600000</td>\n",
       "    </tr>\n",
       "    <tr>\n",
       "      <th>50%</th>\n",
       "      <td>2.000000</td>\n",
       "      <td>28.000000</td>\n",
       "      <td>27.000000</td>\n",
       "    </tr>\n",
       "    <tr>\n",
       "      <th>75%</th>\n",
       "      <td>2.000000</td>\n",
       "      <td>59.600000</td>\n",
       "      <td>53.000000</td>\n",
       "    </tr>\n",
       "    <tr>\n",
       "      <th>max</th>\n",
       "      <td>50.000000</td>\n",
       "      <td>2950.000000</td>\n",
       "      <td>2650.000000</td>\n",
       "    </tr>\n",
       "  </tbody>\n",
       "</table>\n",
       "</div>"
      ],
      "text/plain": [
       "              销售数量         应收金额         实收金额\n",
       "count  6506.000000  6506.000000  6506.000000\n",
       "mean      2.405626    50.927897    46.727653\n",
       "std       2.364565    87.650282    80.997726\n",
       "min       1.000000     1.200000     0.030000\n",
       "25%       1.000000    14.000000    12.600000\n",
       "50%       2.000000    28.000000    27.000000\n",
       "75%       2.000000    59.600000    53.000000\n",
       "max      50.000000  2950.000000  2650.000000"
      ]
     },
     "execution_count": 70,
     "metadata": {},
     "output_type": "execute_result"
    }
   ],
   "source": [
    "#将'销售数量'这一列小于0的数据排除掉\n",
    "pop = dataDF.loc[:,'销售数量'] > 0\n",
    "dataDF = dataDF.loc[pop,:]\n",
    "dataDF.describe()"
   ]
  },
  {
   "cell_type": "markdown",
   "metadata": {},
   "source": [
    "## 构建模型及数据可视化\n",
    "数据清洗完成后，需要利用数据构建模型（就是计算相应的业务指标），并用可视化的方式呈现结果。"
   ]
  },
  {
   "cell_type": "markdown",
   "metadata": {},
   "source": [
    "### （1）业务指标1:月均消费次数\n",
    "月均消费次数 = 总消费次数 / 月份数（同一天内，同一个人所有消费算作一次消费）"
   ]
  },
  {
   "cell_type": "code",
   "execution_count": 71,
   "metadata": {},
   "outputs": [
    {
     "name": "stdout",
     "output_type": "stream",
     "text": [
      "总消费次数= 5342\n",
      "月份数= 6\n",
      "业务指标1：月均消费次数= 890\n"
     ]
    }
   ],
   "source": [
    "#计算总消费次数\n",
    "#删除重复数据\n",
    "kpil_Df = dataDF.drop_duplicates(subset=['销售时间','社保卡号'])\n",
    "totalI = kpil_Df.shape[0]\n",
    "print('总消费次数=',totalI)\n",
    "\n",
    "#计算月份数\n",
    "#按销售时间升序排序\n",
    "kpil_Df = kpil_Df.sort_values(by='销售时间', ascending=True)\n",
    "#重命名行名\n",
    "kpil_Df = kpil_Df.reset_index(drop=True)\n",
    "#获取时间范围\n",
    "startTime = kpil_Df.loc[0,'销售时间']\n",
    "endTime = kpil_Df.loc[totalI-1,'销售时间']\n",
    "#计算月份\n",
    "#天数\n",
    "daysI = (endTime-startTime).days\n",
    "mounthI = daysI//30\n",
    "print('月份数=',mounthI)\n",
    "\n",
    "#月平均消费次数\n",
    "kpil_I = totalI//mounthI\n",
    "print('业务指标1：月均消费次数=', kpil_I)"
   ]
  },
  {
   "cell_type": "markdown",
   "metadata": {},
   "source": [
    "### （2）业务指标2:月均消费金额\n",
    "月均消费金额 = 总消费金额 / 月份数"
   ]
  },
  {
   "cell_type": "code",
   "execution_count": 72,
   "metadata": {},
   "outputs": [
    {
     "name": "stdout",
     "output_type": "stream",
     "text": [
      "业务指标2：月均消费金额= 50668.0\n"
     ]
    }
   ],
   "source": [
    "#消费总金额\n",
    "totalMoneyF = dataDF.loc[:,'实收金额'].sum()\n",
    "mounthMoney = totalMoneyF // mounthI\n",
    "print('业务指标2：月均消费金额=', mounthMoney)"
   ]
  },
  {
   "cell_type": "markdown",
   "metadata": {},
   "source": [
    "### （3）客单价\n",
    "客单价 = 总消费金额 / 总消费次数"
   ]
  },
  {
   "cell_type": "code",
   "execution_count": 73,
   "metadata": {},
   "outputs": [
    {
     "name": "stdout",
     "output_type": "stream",
     "text": [
      "业务指标3：客单价= 56.909417821040805\n"
     ]
    }
   ],
   "source": [
    "#客单价\n",
    "pct = totalMoneyF / totalI\n",
    "print('业务指标3：客单价=', pct)"
   ]
  },
  {
   "cell_type": "markdown",
   "metadata": {},
   "source": [
    "### （4）消费趋势\n",
    "\n",
    "#### a. 导入python可视化相关的包\n",
    "\n",
    "#### b. 分析每天的消费金额"
   ]
  },
  {
   "cell_type": "code",
   "execution_count": 74,
   "metadata": {},
   "outputs": [],
   "source": [
    "import matplotlib.pyplot as plt\n",
    "import matplotlib\n",
    "#画图时用于显示中文字符\n",
    "from pylab import mpl\n",
    "\n",
    "mpl.rcParams['font.sans-serif'] = ['SimHei'] # SimHei是黑体的意思\n",
    "#在操作之前先复制一份"
   ]
  },
  {
   "attachments": {
    "image.png": {
     "image/png": "[encoded data removed]"
    }
   },
   "cell_type": "markdown",
   "metadata": {},
   "source": [
    "![image.png](attachment:image.png)"
   ]
  },
  {
   "cell_type": "code",
   "execution_count": 75,
   "metadata": {},
   "outputs": [
    {
     "name": "stdout",
     "output_type": "stream",
     "text": [
      "                 销售时间           社保卡号    商品编码          商品名称  销售数量   应收金额   实收金额\n",
      "销售时间                                                                          \n",
      "2018-01-01 2018-01-01      001616528  236701       强力VC银翘片   6.0   82.8   69.0\n",
      "2018-01-01 2018-01-01     0010616728  865099    硝苯地平片(心痛定)   2.0    3.4    3.0\n",
      "2018-01-01 2018-01-01  0010073966328  861409  非洛地平缓释片(波依定)   5.0  162.5  145.0\n",
      "2018-01-01 2018-01-01  0010073966328  866634   硝苯地平控释片(欣然)   6.0  111.0   92.5\n",
      "2018-01-01 2018-01-01  0010014289328  866851   缬沙坦分散片(易达乐)   1.0   26.0   23.0\n",
      "<pandas.core.groupby.generic.DataFrameGroupBy object at 0x00000214FA387470>\n",
      "             销售数量    应收金额     实收金额\n",
      "销售时间                              \n",
      "2018-01-01   62.0  1375.4  1239.10\n",
      "2018-01-02   29.0   610.2   561.34\n",
      "2018-01-03   43.0  1056.2   962.50\n",
      "2018-01-04   39.0   818.7   766.00\n",
      "2018-01-05  230.0  4658.5  4181.02\n",
      "2018-01-06   40.0   890.4   846.90\n",
      "2018-01-07   57.0  1161.5  1085.00\n",
      "2018-01-08   49.0  1205.5  1132.40\n",
      "2018-01-09   36.0   711.2   646.90\n",
      "2018-01-10   56.0  1261.1  1147.50\n",
      "2018-01-11   80.0  1481.0  1375.26\n",
      "2018-01-12   69.0  1338.6  1224.50\n",
      "2018-01-13   65.0  1352.6  1269.68\n",
      "2018-01-14   64.0  1188.6  1113.00\n",
      "2018-01-15  179.0  2772.2  2460.11\n",
      "2018-01-16   91.0  2556.1  2457.56\n",
      "2018-01-17   80.0  1724.8  1585.50\n",
      "2018-01-18   98.0  1407.1  1268.00\n",
      "2018-01-19   54.0   996.0   944.90\n",
      "2018-01-20   67.0  1831.3  1739.82\n",
      "2018-01-21   84.0  1603.0  1569.90\n",
      "2018-01-22   24.0   448.9   425.90\n",
      "2018-01-23   70.0  1387.7  1293.91\n",
      "2018-01-24   77.0  2108.2  1980.30\n",
      "2018-01-25  269.0  5789.2  5157.49\n",
      "2018-01-26   86.0  1991.5  1865.70\n",
      "2018-01-27   74.0  1326.2  1207.70\n",
      "2018-01-28  100.0  2140.5  2018.60\n",
      "2018-01-29   83.0  1866.3  1749.00\n",
      "2018-01-30   74.0  1928.3  1761.50\n",
      "...           ...     ...      ...\n",
      "2018-06-20   37.0   850.5   827.80\n",
      "2018-06-21   33.0   749.7   694.80\n",
      "2018-06-22   62.0  1775.0  1677.70\n",
      "2018-06-23  103.0  4278.8  3852.70\n",
      "2018-06-24   55.0  1159.8  1063.00\n",
      "2018-06-25  190.0  4452.8  3953.86\n",
      "2018-06-26   57.0  1376.0  1272.10\n",
      "2018-06-27   55.0  1463.0  1375.30\n",
      "2018-06-28   35.0   737.5   680.70\n",
      "2018-06-29   71.0  1517.2  1423.90\n",
      "2018-06-30   72.0  1293.0  1236.50\n",
      "2018-07-01  106.0  3623.8  3441.10\n",
      "2018-07-02   62.0  1568.4  1465.30\n",
      "2018-07-03   55.0  1453.7  1349.00\n",
      "2018-07-04   28.0   636.9   576.30\n",
      "2018-07-05  205.0  3616.3  3235.03\n",
      "2018-07-06   59.0  1320.6  1212.00\n",
      "2018-07-07   27.0   444.0   412.10\n",
      "2018-07-08   74.0   934.5   893.10\n",
      "2018-07-09   49.0   793.5   709.44\n",
      "2018-07-10   43.0   949.2   895.80\n",
      "2018-07-11   78.0  1983.7  1873.21\n",
      "2018-07-12   58.0  1205.2  1148.50\n",
      "2018-07-13   51.0  1357.3  1288.20\n",
      "2018-07-14   21.0   304.2   284.40\n",
      "2018-07-15  282.0  5570.5  5054.46\n",
      "2018-07-16  101.0  3054.6  2828.10\n",
      "2018-07-17   74.0  1524.2  1420.38\n",
      "2018-07-18   52.0  1005.1   913.00\n",
      "2018-07-19   58.0  1222.3  1120.80\n",
      "\n",
      "[200 rows x 3 columns]\n"
     ]
    },
    {
     "data": {
      "image/png": "[encoded data removed]",
      "text/plain": [
       "<Figure size 432x288 with 1 Axes>"
      ]
     },
     "metadata": {
      "needs_background": "light"
     },
     "output_type": "display_data"
    }
   ],
   "source": [
    "#mpl.rcParams['font.sans-serif'] = ['Songti'] # SimHei是黑体的意思\n",
    "#font = FontProperties(fname='/Library/Fonts/Songti.ttc') #设置字体\n",
    "#在操作之前先复制一份数据，防止影响清洗后的数据\n",
    "groupDF = dataDF\n",
    "\n",
    "#将'销售时间'设置为index\n",
    "groupDF.index = groupDF['销售时间']\n",
    "print(groupDF.head())\n",
    "gb = groupDF.groupby(groupDF.index)\n",
    "print(gb)\n",
    "dayDF = gb.sum()\n",
    "print(dayDF)\n",
    "#画图\n",
    "plt.plot(dayDF['实收金额'])\n",
    "plt.title('按天消费金额')\n",
    "plt.xlabel('时间')\n",
    "plt.ylabel('实收金额')\n",
    "plt.show()"
   ]
  },
  {
   "cell_type": "markdown",
   "metadata": {},
   "source": [
    "从结果可以看出，每天消费总额差异较大，除了个别天出现比较大笔的消费，大部分人消费情况维持在1000-2000元以内。"
   ]
  },
  {
   "cell_type": "markdown",
   "metadata": {},
   "source": [
    "#### c. 分析每月的消费金额\n",
    "\n",
    "接下来，我销售时间先聚合再按月分组进行分析："
   ]
  },
  {
   "cell_type": "code",
   "execution_count": 76,
   "metadata": {},
   "outputs": [
    {
     "name": "stdout",
     "output_type": "stream",
     "text": [
      "<pandas.core.groupby.generic.DataFrameGroupBy object at 0x00000214F861CDA0>\n",
      "        销售数量     应收金额      实收金额\n",
      "销售时间                           \n",
      "1     2527.0  53561.6  49461.19\n",
      "2     1858.0  42028.8  38790.38\n",
      "3     2225.0  45318.0  41597.51\n",
      "4     3005.0  54296.3  48787.84\n",
      "5     2225.0  51263.4  46925.27\n",
      "6     2328.0  52300.8  48327.70\n",
      "7     1483.0  32568.0  30120.22\n"
     ]
    },
    {
     "data": {
      "image/png": "[encoded data removed]",
      "text/plain": [
       "<Figure size 432x288 with 1 Axes>"
      ]
     },
     "metadata": {
      "needs_background": "light"
     },
     "output_type": "display_data"
    }
   ],
   "source": [
    "#将销售时间聚合按月分组\n",
    "gb = groupDF.groupby(groupDF.index.month)\n",
    "print(gb)\n",
    "monthDF = gb.sum()\n",
    "print(monthDF)\n",
    "\n",
    "plt.plot(monthDF['实收金额'])\n",
    "plt.title('按月消费金额')\n",
    "plt.xlabel('时间')\n",
    "plt.ylabel('实收金额')\n",
    "plt.show()"
   ]
  },
  {
   "cell_type": "markdown",
   "metadata": {},
   "source": [
    "结果显示，7月消费金额最少，这是因为7月份的数据不完整，所以不具参考价值。\n",
    "\n",
    "1月、4月、5月和6月的月消费金额差异不大.\n",
    "\n",
    "2月和3月的消费金额迅速降低，这可能是2月和3月处于春节期间，大部分人都回家过年的原因。"
   ]
  },
  {
   "cell_type": "markdown",
   "metadata": {},
   "source": [
    "#### d. 分析药品销售情况\n",
    "\n",
    "对“商品名称”和“销售数量”这两列数据进行聚合为Series形式，方便后面统计，并按降序排序："
   ]
  },
  {
   "cell_type": "code",
   "execution_count": 77,
   "metadata": {},
   "outputs": [
    {
     "data": {
      "text/html": [
       "<div>\n",
       "<style scoped>\n",
       "    .dataframe tbody tr th:only-of-type {\n",
       "        vertical-align: middle;\n",
       "    }\n",
       "\n",
       "    .dataframe tbody tr th {\n",
       "        vertical-align: top;\n",
       "    }\n",
       "\n",
       "    .dataframe thead th {\n",
       "        text-align: right;\n",
       "    }\n",
       "</style>\n",
       "<table border=\"1\" class=\"dataframe\">\n",
       "  <thead>\n",
       "    <tr style=\"text-align: right;\">\n",
       "      <th></th>\n",
       "      <th>销售数量</th>\n",
       "    </tr>\n",
       "    <tr>\n",
       "      <th>商品名称</th>\n",
       "      <th></th>\n",
       "    </tr>\n",
       "  </thead>\n",
       "  <tbody>\n",
       "    <tr>\n",
       "      <th>苯磺酸氨氯地平片(安内真)</th>\n",
       "      <td>1781.0</td>\n",
       "    </tr>\n",
       "    <tr>\n",
       "      <th>开博通</th>\n",
       "      <td>1440.0</td>\n",
       "    </tr>\n",
       "    <tr>\n",
       "      <th>酒石酸美托洛尔片(倍他乐克)</th>\n",
       "      <td>1140.0</td>\n",
       "    </tr>\n",
       "    <tr>\n",
       "      <th>硝苯地平片(心痛定)</th>\n",
       "      <td>825.0</td>\n",
       "    </tr>\n",
       "    <tr>\n",
       "      <th>苯磺酸氨氯地平片(络活喜)</th>\n",
       "      <td>796.0</td>\n",
       "    </tr>\n",
       "  </tbody>\n",
       "</table>\n",
       "</div>"
      ],
      "text/plain": [
       "                  销售数量\n",
       "商品名称                  \n",
       "苯磺酸氨氯地平片(安内真)   1781.0\n",
       "开博通             1440.0\n",
       "酒石酸美托洛尔片(倍他乐克)  1140.0\n",
       "硝苯地平片(心痛定)       825.0\n",
       "苯磺酸氨氯地平片(络活喜)    796.0"
      ]
     },
     "execution_count": 77,
     "metadata": {},
     "output_type": "execute_result"
    }
   ],
   "source": [
    "#聚合统计各种药品数量\n",
    "medicine = groupDF[['商品名称','销售数量']]\n",
    "bk = medicine.groupby('商品名称')[['销售数量']]\n",
    "re_medicine = bk.sum()\n",
    "\n",
    "#对销售药品数量按将序排序\n",
    "re_medicine = re_medicine.sort_values(by='销售数量', ascending=False)\n",
    "re_medicine.head()"
   ]
  },
  {
   "cell_type": "markdown",
   "metadata": {},
   "source": [
    "**截取销售数量最多的前十种药品，并用条形图展示结果：**"
   ]
  },
  {
   "cell_type": "code",
   "execution_count": 78,
   "metadata": {},
   "outputs": [
    {
     "data": {
      "image/png": "[encoded data removed]",
      "text/plain": [
       "<Figure size 432x288 with 1 Axes>"
      ]
     },
     "metadata": {
      "needs_background": "light"
     },
     "output_type": "display_data"
    }
   ],
   "source": [
    "top_medicine = re_medicine.iloc[:10,:]\n",
    "top_medicine\n",
    "\n",
    "# 数据可视化，用条形图展示前十的药品\n",
    "top_medicine.plot(kind = 'bar')\n",
    "plt.title('销售前十的药品')\n",
    "plt.xlabel('药品')\n",
    "plt.ylabel('数量')\n",
    "plt.show()"
   ]
  },
  {
   "cell_type": "markdown",
   "metadata": {},
   "source": [
    "结论：对于销售量排在前几位的药品，医院应该时刻关注，保证药品不会短缺而影响患者。得到销售数量最多的前十种药品的信息，这些信息也会有助于加强医院对药房的管理。"
   ]
  },
  {
   "cell_type": "markdown",
   "metadata": {},
   "source": [
    "#### e. 每天的消费金额分布情况\n",
    "每天的消费金额分布情况：一横轴为时间，纵轴为实收金额画散点图。"
   ]
  },
  {
   "cell_type": "code",
   "execution_count": 79,
   "metadata": {},
   "outputs": [
    {
     "data": {
      "image/png": "[encoded data removed]",
      "text/plain": [
       "<Figure size 432x288 with 1 Axes>"
      ]
     },
     "metadata": {
      "needs_background": "light"
     },
     "output_type": "display_data"
    }
   ],
   "source": [
    "# 每天消售金额 -- 散点图\n",
    "plt.scatter(dataDF['销售时间'],dataDF['实收金额'])\n",
    "plt.title('每天销售金额')\n",
    "plt.xlabel('时间')\n",
    "plt.ylabel('实收金额')\n",
    "plt.show()"
   ]
  },
  {
   "cell_type": "markdown",
   "metadata": {},
   "source": [
    "结论：从散点图可以看出，每天消费金额在500以下的占绝大多数，个别天存在消费金额很大的情况。"
   ]
  },
  {
   "cell_type": "code",
   "execution_count": null,
   "metadata": {},
   "outputs": [],
   "source": []
  }
 ],
 "metadata": {
  "kernelspec": {
   "display_name": "Python 3",
   "language": "python",
   "name": "python3"
  },
  "language_info": {
   "codemirror_mode": {
    "name": "ipython",
    "version": 3
   },
   "file_extension": ".py",
   "mimetype": "text/x-python",
   "name": "python",
   "nbconvert_exporter": "python",
   "pygments_lexer": "ipython3",
   "version": "3.7.3"
  },
  "toc": {
   "base_numbering": 1,
   "nav_menu": {},
   "number_sections": true,
   "sideBar": true,
   "skip_h1_title": true,
   "title_cell": "Table of Contents",
   "title_sidebar": "Contents",
   "toc_cell": true,
   "toc_position": {},
   "toc_section_display": true,
   "toc_window_display": false
  }
 },
 "nbformat": 4,
 "nbformat_minor": 2
}
