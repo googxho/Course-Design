{
 "cells": [
  {
   "cell_type": "markdown",
   "metadata": {
    "toc": true
   },
   "source": [
    "<h1>Table of Contents<span class=\"tocSkip\"></span></h1>\n",
    "<div class=\"toc\"><ul class=\"toc-item\"><li><span><a href=\"#Pandas-DataFrame-总结\" data-toc-modified-id=\"Pandas-DataFrame-总结-1\"><span class=\"toc-item-num\">1&nbsp;&nbsp;</span>Pandas DataFrame 总结</a></span></li><li><span><a href=\"#创建\" data-toc-modified-id=\"创建-2\"><span class=\"toc-item-num\">2&nbsp;&nbsp;</span>创建</a></span></li><li><span><a href=\"#排序\" data-toc-modified-id=\"排序-3\"><span class=\"toc-item-num\">3&nbsp;&nbsp;</span>排序</a></span></li><li><span><a href=\"#按值排序\" data-toc-modified-id=\"按值排序-4\"><span class=\"toc-item-num\">4&nbsp;&nbsp;</span>按值排序</a></span></li><li><span><a href=\"#df-内排序\" data-toc-modified-id=\"df-内排序-5\"><span class=\"toc-item-num\">5&nbsp;&nbsp;</span>df 内排序</a></span></li><li><span><a href=\"#索引\" data-toc-modified-id=\"索引-6\"><span class=\"toc-item-num\">6&nbsp;&nbsp;</span>索引</a></span></li><li><span><a href=\"#自定义索引\" data-toc-modified-id=\"自定义索引-7\"><span class=\"toc-item-num\">7&nbsp;&nbsp;</span>自定义索引</a></span></li><li><span><a href=\"#布尔索引\" data-toc-modified-id=\"布尔索引-8\"><span class=\"toc-item-num\">8&nbsp;&nbsp;</span>布尔索引</a></span></li><li><span><a href=\"#插入与删除\" data-toc-modified-id=\"插入与删除-9\"><span class=\"toc-item-num\">9&nbsp;&nbsp;</span>插入与删除</a></span></li><li><span><a href=\"#DataFrame-重要方法与属性\" data-toc-modified-id=\"DataFrame-重要方法与属性-10\"><span class=\"toc-item-num\">10&nbsp;&nbsp;</span>DataFrame 重要方法与属性</a></span></li><li><span><a href=\"#转换成-Numpy\" data-toc-modified-id=\"转换成-Numpy-11\"><span class=\"toc-item-num\">11&nbsp;&nbsp;</span>转换成 Numpy</a></span></li></ul></div>"
   ]
  },
  {
   "cell_type": "markdown",
   "metadata": {},
   "source": [
    "## Pandas DataFrame 总结\n",
    "\n",
    "Pandas 是一个非常好用的库，总结一下 Pandas DataFrame 常见用法，用来复制粘贴。"
   ]
  },
  {
   "cell_type": "code",
   "execution_count": 1,
   "metadata": {},
   "outputs": [],
   "source": [
    "import numpy as np\n",
    "import pandas as pd"
   ]
  },
  {
   "cell_type": "markdown",
   "metadata": {},
   "source": [
    "## 创建"
   ]
  },
  {
   "cell_type": "code",
   "execution_count": 2,
   "metadata": {},
   "outputs": [],
   "source": [
    "data = np.array([[1, 2, 3], [4, 5, 6], [7, 8, 9]])\n",
    "c = ['a', 'b', 'c']\n",
    "r = ['A', 'B', 'C']\n",
    "df = pd.DataFrame(data=data,  columns=c, index=r)"
   ]
  },
  {
   "cell_type": "markdown",
   "metadata": {},
   "source": [
    "## 排序\n",
    "按列、行名排序"
   ]
  },
  {
   "cell_type": "code",
   "execution_count": 3,
   "metadata": {},
   "outputs": [
    {
     "data": {
      "text/html": [
       "<div>\n",
       "<style scoped>\n",
       "    .dataframe tbody tr th:only-of-type {\n",
       "        vertical-align: middle;\n",
       "    }\n",
       "\n",
       "    .dataframe tbody tr th {\n",
       "        vertical-align: top;\n",
       "    }\n",
       "\n",
       "    .dataframe thead th {\n",
       "        text-align: right;\n",
       "    }\n",
       "</style>\n",
       "<table border=\"1\" class=\"dataframe\">\n",
       "  <thead>\n",
       "    <tr style=\"text-align: right;\">\n",
       "      <th></th>\n",
       "      <th>a</th>\n",
       "      <th>b</th>\n",
       "      <th>c</th>\n",
       "    </tr>\n",
       "  </thead>\n",
       "  <tbody>\n",
       "    <tr>\n",
       "      <th>C</th>\n",
       "      <td>7</td>\n",
       "      <td>8</td>\n",
       "      <td>9</td>\n",
       "    </tr>\n",
       "    <tr>\n",
       "      <th>B</th>\n",
       "      <td>4</td>\n",
       "      <td>5</td>\n",
       "      <td>6</td>\n",
       "    </tr>\n",
       "    <tr>\n",
       "      <th>A</th>\n",
       "      <td>1</td>\n",
       "      <td>2</td>\n",
       "      <td>3</td>\n",
       "    </tr>\n",
       "  </tbody>\n",
       "</table>\n",
       "</div>"
      ],
      "text/plain": [
       "   a  b  c\n",
       "C  7  8  9\n",
       "B  4  5  6\n",
       "A  1  2  3"
      ]
     },
     "execution_count": 3,
     "metadata": {},
     "output_type": "execute_result"
    }
   ],
   "source": [
    "# 行名排序 降序\n",
    "df.sort_index(axis=0, ascending=False)\n",
    "# 列名排序 降序\n",
    "df.sort_index(axis=0, ascending=False)"
   ]
  },
  {
   "cell_type": "markdown",
   "metadata": {},
   "source": [
    "## 按值排序\n",
    "拿出来排序"
   ]
  },
  {
   "cell_type": "code",
   "execution_count": 4,
   "metadata": {},
   "outputs": [
    {
     "data": {
      "text/plain": [
       "C    7\n",
       "B    4\n",
       "A    1\n",
       "Name: a, dtype: int32"
      ]
     },
     "execution_count": 4,
     "metadata": {},
     "output_type": "execute_result"
    }
   ],
   "source": [
    "df[\"a\"].sort_values(ascending = False)"
   ]
  },
  {
   "cell_type": "markdown",
   "metadata": {},
   "source": [
    "## df 内排序"
   ]
  },
  {
   "cell_type": "code",
   "execution_count": 5,
   "metadata": {},
   "outputs": [
    {
     "data": {
      "text/html": [
       "<div>\n",
       "<style scoped>\n",
       "    .dataframe tbody tr th:only-of-type {\n",
       "        vertical-align: middle;\n",
       "    }\n",
       "\n",
       "    .dataframe tbody tr th {\n",
       "        vertical-align: top;\n",
       "    }\n",
       "\n",
       "    .dataframe thead th {\n",
       "        text-align: right;\n",
       "    }\n",
       "</style>\n",
       "<table border=\"1\" class=\"dataframe\">\n",
       "  <thead>\n",
       "    <tr style=\"text-align: right;\">\n",
       "      <th></th>\n",
       "      <th>a</th>\n",
       "      <th>b</th>\n",
       "      <th>c</th>\n",
       "    </tr>\n",
       "  </thead>\n",
       "  <tbody>\n",
       "    <tr>\n",
       "      <th>A</th>\n",
       "      <td>1</td>\n",
       "      <td>2</td>\n",
       "      <td>3</td>\n",
       "    </tr>\n",
       "    <tr>\n",
       "      <th>B</th>\n",
       "      <td>4</td>\n",
       "      <td>5</td>\n",
       "      <td>6</td>\n",
       "    </tr>\n",
       "    <tr>\n",
       "      <th>C</th>\n",
       "      <td>7</td>\n",
       "      <td>8</td>\n",
       "      <td>9</td>\n",
       "    </tr>\n",
       "  </tbody>\n",
       "</table>\n",
       "</div>"
      ],
      "text/plain": [
       "   a  b  c\n",
       "A  1  2  3\n",
       "B  4  5  6\n",
       "C  7  8  9"
      ]
     },
     "execution_count": 5,
     "metadata": {},
     "output_type": "execute_result"
    }
   ],
   "source": [
    "df.sort_values( ['a', 'b', 'c'])"
   ]
  },
  {
   "cell_type": "markdown",
   "metadata": {},
   "source": [
    "## 索引\n",
    "位置索引"
   ]
  },
  {
   "cell_type": "code",
   "execution_count": null,
   "metadata": {},
   "outputs": [],
   "source": [
    "df.iloc[2] # 选择第二行所有数据, 是Series类型\n",
    "df.iloc[[2]] # 选择第二行所有数据, 是DataFrame类型\n",
    "df.iloc[:, 2] # 选择第二列所有数据, 是Series类型\n",
    "df.iloc[:, [2]] # 选择第二列所有数据, 是DataFrame类型\n",
    "df.iloc[:, 0:2] # 选择0到2列所有数据\n",
    "df.iloc[[2,3], 0:2] # 选择2和3行, 0到2列所有数据\n",
    "df.iat[1, 1] # 根据位置快速取出数据, 获取单个数据推荐这种方法"
   ]
  },
  {
   "cell_type": "markdown",
   "metadata": {},
   "source": [
    "## 自定义索引"
   ]
  },
  {
   "cell_type": "code",
   "execution_count": null,
   "metadata": {},
   "outputs": [],
   "source": [
    "df.loc['top'] # 选择指定行数据, 是Series类型\n",
    "df.loc[['top']] # 选择指定行数据, 是DataFrame类型\n",
    "df.loc[:, 'xm'] # 选择指定列数据, 是Series类型(不推荐)\n",
    "df.loc[:, ['xm']] # 选择指定列数据, 是DataFrame类型(不推荐)\n",
    "df.loc[:, ['bj','xm']] # 选择多列数据(不推荐)\n",
    "df.loc[:, 'bj':'xb'] # 选择多列之间所有数据, 列切片只能用这种方法\n",
    "df.loc[['top','count'], 'bj':'xb'] # 选择指定行, 指定列数据\n",
    "df.at['top', 'xm'] # 根据自定义索引快速取出数据, 获取单个数据推荐这种方法"
   ]
  },
  {
   "cell_type": "markdown",
   "metadata": {},
   "source": [
    "## 布尔索引"
   ]
  },
  {
   "cell_type": "code",
   "execution_count": null,
   "metadata": {},
   "outputs": [],
   "source": [
    "# 选取所有出生日期大于等于1998年的数据, 这里是字符串比较\n",
    "df[df['csrq']>='1998'] \n",
    "# 选取所有出生日期大于等于1997年小于1999年的数据\n",
    "df[(df['csrq']>='1997')&(data['csrq']<'1999')]\n",
    "# 选取所有出生日期大于等于1997年小于1999年的数据\n",
    "df[df['csrq'].between('1997', '1999')]\n",
    "# 选取所有出生日期大于等于1997年或者姓名为张三的数据\n",
    "df[(df['csrq']>='1997')|(data['xm']=='张三')]\n",
    "# 另一种选取方式(不推荐, 实测效率比上面低)\n",
    "df[df.csrq>='1998'] \n",
    "# 选择字段值为指定内容的数据\n",
    "df[df['xm'].isin(['张三','李四'])] "
   ]
  },
  {
   "cell_type": "markdown",
   "metadata": {},
   "source": [
    "## 插入与删除"
   ]
  },
  {
   "cell_type": "code",
   "execution_count": null,
   "metadata": {},
   "outputs": [],
   "source": [
    "# 假设cj列本来不存在, 这样会在列尾添加新的一列cj, 值为s(Series对象), 原地\n",
    "df['cj'] = s \n",
    "# 在第1列位置插入一列dz(地址), 值为s, 原地\n",
    "df.insert(0, 'dz', s)\n",
    "# 在df中添加内容为df2(必须是DataFrame对象)的新列(添加列), 非原地 \n",
    "df.join(df2)\n",
    " # 将df2中的行添加到df的尾部(添加行), 非原地\n",
    "df.append(df2)\n",
    "# 删除单列, 并返回删除的列, 原地\n",
    "df.pop('xm')\n",
    "# 删除指定行, 非原地 \n",
    "df.drop(1) \n",
    "# 删除指定列, axis=1指第2维, axis默认0, 非原地\n",
    "df.drop(['xm', 'xh'], axis=1) "
   ]
  },
  {
   "cell_type": "markdown",
   "metadata": {},
   "source": [
    "## DataFrame 重要方法与属性"
   ]
  },
  {
   "cell_type": "code",
   "execution_count": null,
   "metadata": {},
   "outputs": [],
   "source": [
    "'''重要属性'''\n",
    "df.values # 查看所有元素的value\n",
    "df.dtypes # 查看所有元素的类型\n",
    "df.index # 查看所有行名\n",
    "df.index = ['总数', '不同', '最多', '频率'] # 重命名行名\n",
    "df.columns # 查看所有列名\n",
    "df.columns = ['班级', '姓名', '性别', '出生日期'] # 重命名列名\n",
    "df.T # 转置后的df, 非原地\n",
    "\n",
    "'''查看数据'''\n",
    "df.head(n) # 查看df前n条数据, 默认5条\n",
    "df.tail(n) # 查看df后n条数据, 默认5条\n",
    "df.shape() # 查看行数和列数\n",
    "df.info() # 查看索引, 数据类型和内存信息\n",
    "\n",
    "'''数据统计'''\n",
    "df.describe() # 查看数据值列的汇总统计, 是DataFrame类型\n",
    "df.count() # 返回每一列中的非空值的个数\n",
    "df.sum() # 返回每一列的和, 无法计算返回空, 下同\n",
    "df.sum(numeric_only=True) # numeric_only=True代表只计算数字型元素, 下同\n",
    "df.max() # 返回每一列的最大值\n",
    "df.min() # 返回每一列的最小值\n",
    "df.argmax() # 返回最大值所在的自动索引位置\n",
    "df.argmin() # 返回最小值所在的自动索引位置\n",
    "df.idxmax() # 返回最大值所在的自定义索引位置\n",
    "df.idxmin() # 返回最小值所在的自定义索引位置\n",
    "df.mean() # 返回每一列的均值\n",
    "df.median() # 返回每一列的中位数\n",
    "df.var() # 返回每一列的方差\n",
    "df.std() # 返回每一列的标准差\n",
    "df.isnull() # 检查df中空值, NaN为True, 否则False, 返回一个布尔数组\n",
    "df.notnull() # 检查df中空值, 非NaN为True, 否则False, 返回一个布尔数组"
   ]
  },
  {
   "cell_type": "markdown",
   "metadata": {},
   "source": [
    "## 转换成 Numpy\n"
   ]
  },
  {
   "cell_type": "code",
   "execution_count": null,
   "metadata": {},
   "outputs": [],
   "source": [
    "df.values\n",
    "np.array(df)"
   ]
  },
  {
   "cell_type": "code",
   "execution_count": null,
   "metadata": {},
   "outputs": [],
   "source": []
  },
  {
   "cell_type": "code",
   "execution_count": null,
   "metadata": {},
   "outputs": [],
   "source": []
  }
 ],
 "metadata": {
  "kernelspec": {
   "display_name": "Python 3",
   "language": "python",
   "name": "python3"
  },
  "language_info": {
   "codemirror_mode": {
    "name": "ipython",
    "version": 3
   },
   "file_extension": ".py",
   "mimetype": "text/x-python",
   "name": "python",
   "nbconvert_exporter": "python",
   "pygments_lexer": "ipython3",
   "version": "3.7.3"
  },
  "toc": {
   "base_numbering": 1,
   "nav_menu": {},
   "number_sections": true,
   "sideBar": true,
   "skip_h1_title": true,
   "title_cell": "Table of Contents",
   "title_sidebar": "Contents",
   "toc_cell": true,
   "toc_position": {},
   "toc_section_display": true,
   "toc_window_display": true
  }
 },
 "nbformat": 4,
 "nbformat_minor": 2
}
