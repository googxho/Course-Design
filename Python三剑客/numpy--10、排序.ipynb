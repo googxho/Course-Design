{
 "cells": [
  {
   "cell_type": "markdown",
   "metadata": {
    "toc": true
   },
   "source": [
    "<h1>Table of Contents<span class=\"tocSkip\"></span></h1>\n",
    "<div class=\"toc\"><ul class=\"toc-item\"><li><span><a href=\"#排序\" data-toc-modified-id=\"排序-1\"><span class=\"toc-item-num\">1&nbsp;&nbsp;</span>排序</a></span><ul class=\"toc-item\"><li><ul class=\"toc-item\"><li><ul class=\"toc-item\"><li><span><a href=\"#多维数组排序\" data-toc-modified-id=\"多维数组排序-1.0.0.1\"><span class=\"toc-item-num\">1.0.0.1&nbsp;&nbsp;</span>多维数组排序</a></span></li><li><span><a href=\"#按键排序\" data-toc-modified-id=\"按键排序-1.0.0.2\"><span class=\"toc-item-num\">1.0.0.2&nbsp;&nbsp;</span>按键排序</a></span></li></ul></li></ul></li></ul></li></ul></div>"
   ]
  },
  {
   "cell_type": "markdown",
   "metadata": {},
   "source": [
    "## 排序\n",
    "\n",
    "sort(a[, axis, kind, order])\n",
    "\n",
    "返回数组的排序副本\n",
    "\n",
    "ndarray.sort([axis, kind, order])\n",
    "\n",
    "就地对数组进行排序\n",
    "\n",
    "lexsort(keys[, axis])\n",
    "\n",
    "使用一系列键执行间接排序\n",
    "\n",
    "argsort(a[, axis, kind, order])\n",
    "\n",
    "返回对数组进行排序的索引\n",
    "\n",
    "msort(a)\n",
    "\n",
    "返回沿第一个轴排序的数组副本\n",
    "\n",
    "sort_complex(a)\n",
    "\n",
    "首先使用实部对复杂数组进行排序，然后使用虚部进行排序\n",
    "\n",
    "partition(a, kth[, axis, kind, order])\n",
    "\n",
    "返回数组的分区副本\n",
    "\n",
    "argpartition(a, kth[, axis, kind, order])\n",
    "\n",
    "使用kind关键字指定的算法沿给定轴执行间接分区"
   ]
  },
  {
   "cell_type": "code",
   "execution_count": 1,
   "metadata": {},
   "outputs": [
    {
     "data": {
      "text/plain": [
       "array([ 0.08432723, -0.92847027, -0.34126329, -0.83387423,  1.37230036,\n",
       "        1.59632423,  0.59059831, -0.97828575, -0.24285715,  1.41108744])"
      ]
     },
     "execution_count": 1,
     "metadata": {},
     "output_type": "execute_result"
    }
   ],
   "source": [
    "import numpy as np\n",
    "\n",
    "arr1 = np.random.randn(10)\n",
    "arr1"
   ]
  },
  {
   "cell_type": "code",
   "execution_count": 2,
   "metadata": {},
   "outputs": [
    {
     "data": {
      "text/plain": [
       "array([-0.97828575, -0.92847027, -0.83387423, -0.34126329, -0.24285715,\n",
       "        0.08432723,  0.59059831,  1.37230036,  1.41108744,  1.59632423])"
      ]
     },
     "execution_count": 2,
     "metadata": {},
     "output_type": "execute_result"
    }
   ],
   "source": [
    "np.sort(arr1)"
   ]
  },
  {
   "cell_type": "code",
   "execution_count": 3,
   "metadata": {},
   "outputs": [
    {
     "data": {
      "text/plain": [
       "array([-0.97828575, -0.92847027, -0.83387423, -0.34126329, -0.24285715,\n",
       "        0.08432723,  0.59059831,  1.37230036,  1.41108744,  1.59632423])"
      ]
     },
     "execution_count": 3,
     "metadata": {},
     "output_type": "execute_result"
    }
   ],
   "source": [
    "arr1.sort() # 就地进行排序，修改原数组\n",
    "arr1"
   ]
  },
  {
   "cell_type": "markdown",
   "metadata": {},
   "source": [
    "##### 多维数组排序"
   ]
  },
  {
   "cell_type": "code",
   "execution_count": 4,
   "metadata": {},
   "outputs": [
    {
     "data": {
      "text/plain": [
       "array([[ 0.48553688,  0.19115807,  1.20750953, -0.48682379],\n",
       "       [-0.5492065 ,  0.56615595,  0.08772585,  0.34906975],\n",
       "       [ 0.63809466,  0.90298   , -1.83388261, -0.02325801]])"
      ]
     },
     "execution_count": 4,
     "metadata": {},
     "output_type": "execute_result"
    }
   ],
   "source": [
    "arr2 = np.random.randn(3, 4)\n",
    "arr2"
   ]
  },
  {
   "cell_type": "code",
   "execution_count": 5,
   "metadata": {},
   "outputs": [
    {
     "data": {
      "text/plain": [
       "array([[-0.48682379,  0.19115807,  0.48553688,  1.20750953],\n",
       "       [-0.5492065 ,  0.08772585,  0.34906975,  0.56615595],\n",
       "       [-1.83388261, -0.02325801,  0.63809466,  0.90298   ]])"
      ]
     },
     "execution_count": 5,
     "metadata": {},
     "output_type": "execute_result"
    }
   ],
   "source": [
    "np.sort(arr2, axis=1) # 按列排序"
   ]
  },
  {
   "cell_type": "code",
   "execution_count": 6,
   "metadata": {},
   "outputs": [
    {
     "data": {
      "text/plain": [
       "array([[-0.5492065 ,  0.19115807, -1.83388261, -0.48682379],\n",
       "       [ 0.48553688,  0.56615595,  0.08772585, -0.02325801],\n",
       "       [ 0.63809466,  0.90298   ,  1.20750953,  0.34906975]])"
      ]
     },
     "execution_count": 6,
     "metadata": {},
     "output_type": "execute_result"
    }
   ],
   "source": [
    "np.sort(arr2, axis=0) # 按行排序"
   ]
  },
  {
   "cell_type": "code",
   "execution_count": 7,
   "metadata": {},
   "outputs": [
    {
     "data": {
      "text/plain": [
       "dtype([('name', '<U10'), ('age', '<i4')])"
      ]
     },
     "execution_count": 7,
     "metadata": {},
     "output_type": "execute_result"
    }
   ],
   "source": [
    "my_dt = np.dtype([('name',  'U10'),('age',  int)]) # 按关键字排序\n",
    "my_dt"
   ]
  },
  {
   "cell_type": "markdown",
   "metadata": {},
   "source": [
    "##### 按键排序"
   ]
  },
  {
   "cell_type": "code",
   "execution_count": 8,
   "metadata": {},
   "outputs": [
    {
     "data": {
      "text/plain": [
       "array([('罗志祥', 21), ('黄渤', 25), ('孙红雷', 17), ('黄磊', 27)],\n",
       "      dtype=[('name', '<U10'), ('age', '<i4')])"
      ]
     },
     "execution_count": 8,
     "metadata": {},
     "output_type": "execute_result"
    }
   ],
   "source": [
    "arr3 = np.array([(\"罗志祥\", 21), (\"黄渤\", 25), (\"孙红雷\",  17),  (\"黄磊\",27)], dtype=my_dt)\n",
    "arr3"
   ]
  },
  {
   "cell_type": "code",
   "execution_count": 9,
   "metadata": {},
   "outputs": [
    {
     "data": {
      "text/plain": [
       "array([('孙红雷', 17), ('罗志祥', 21), ('黄渤', 25), ('黄磊', 27)],\n",
       "      dtype=[('name', '<U10'), ('age', '<i4')])"
      ]
     },
     "execution_count": 9,
     "metadata": {},
     "output_type": "execute_result"
    }
   ],
   "source": [
    "np.sort(arr3, order='age')"
   ]
  },
  {
   "cell_type": "code",
   "execution_count": null,
   "metadata": {},
   "outputs": [],
   "source": []
  },
  {
   "cell_type": "code",
   "execution_count": null,
   "metadata": {},
   "outputs": [],
   "source": []
  }
 ],
 "metadata": {
  "kernelspec": {
   "display_name": "Python 3",
   "language": "python",
   "name": "python3"
  },
  "language_info": {
   "codemirror_mode": {
    "name": "ipython",
    "version": 3
   },
   "file_extension": ".py",
   "mimetype": "text/x-python",
   "name": "python",
   "nbconvert_exporter": "python",
   "pygments_lexer": "ipython3",
   "version": "3.7.3"
  },
  "toc": {
   "base_numbering": 1,
   "nav_menu": {},
   "number_sections": true,
   "sideBar": true,
   "skip_h1_title": true,
   "title_cell": "Table of Contents",
   "title_sidebar": "Contents",
   "toc_cell": true,
   "toc_position": {},
   "toc_section_display": true,
   "toc_window_display": false
  }
 },
 "nbformat": 4,
 "nbformat_minor": 2
}
