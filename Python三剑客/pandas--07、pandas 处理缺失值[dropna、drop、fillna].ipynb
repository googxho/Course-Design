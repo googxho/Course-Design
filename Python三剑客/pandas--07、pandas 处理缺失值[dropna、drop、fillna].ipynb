{
 "cells": [
  {
   "cell_type": "markdown",
   "metadata": {
    "toc": true
   },
   "source": [
    "<h1>Table of Contents<span class=\"tocSkip\"></span></h1>\n",
    "<div class=\"toc\"><ul class=\"toc-item\"></ul></div>"
   ]
  },
  {
   "cell_type": "code",
   "execution_count": null,
   "metadata": {},
   "outputs": [],
   "source": [
    "https://blog.csdn.net/dss_dssssd/article/details/82814673"
   ]
  },
  {
   "cell_type": "code",
   "execution_count": 4,
   "metadata": {},
   "outputs": [],
   "source": [
    "import numpy as np\n",
    "import pandas as pd\n",
    "from pandas import Series\n",
    "from pandas import DataFrame"
   ]
  },
  {
   "cell_type": "code",
   "execution_count": null,
   "metadata": {},
   "outputs": [],
   "source": [
    "pandas 处理缺失值[dropna、drop、fillna]"
   ]
  },
  {
   "cell_type": "code",
   "execution_count": null,
   "metadata": {},
   "outputs": [],
   "source": [
    "面对缺失值三种处理方法：\n",
    "\n",
    "option 1： 去掉含有缺失值的样本（行）\n",
    "option 2：将含有缺失值的列（特征向量）去掉\n",
    "option 3：将缺失值用某些值填充（0，平均值，中值等）\n",
    "\n",
    "对于dropna和fillna,dataframe和series都有，在这主要讲datafame的"
   ]
  },
  {
   "cell_type": "code",
   "execution_count": null,
   "metadata": {},
   "outputs": [],
   "source": [
    "对于option1：\n",
    "使用DataFrame.dropna(axis=0, how='any', thresh=None, subset=None, inplace=False)\n",
    "参数说明：\n",
    "\n",
    "axis:\n",
    "axis=0: 删除包含缺失值的行\n",
    "axis=1: 删除包含缺失值的列\n",
    "how: 与axis配合使用\n",
    "how=‘any’ :只要有缺失值出现，就删除该行货列\n",
    "how=‘all’: 所有的值都缺失，才删除行或列\n",
    "thresh： axis中至少有thresh个非缺失值，否则删除\n",
    "比如 axis=0，thresh=10：标识如果该行中非缺失值的数量小于10，将删除改行\n",
    "subset: list\n",
    "在哪些列中查看是否有缺失值\n",
    "inplace: 是否在原数据上操作。如果为真，返回None否则返回新的copy，去掉了缺失值\n",
    "建议在使用时将全部的缺省参数都写上，便于快速理解"
   ]
  },
  {
   "cell_type": "code",
   "execution_count": 6,
   "metadata": {},
   "outputs": [
    {
     "ename": "SyntaxError",
     "evalue": "invalid syntax (<ipython-input-6-dc36b00444c7>, line 1)",
     "output_type": "error",
     "traceback": [
      "\u001b[1;36m  File \u001b[1;32m\"<ipython-input-6-dc36b00444c7>\"\u001b[1;36m, line \u001b[1;32m1\u001b[0m\n\u001b[1;33m    df = pd.DataFrame({\"name\": ['Alfred', 'Batman', 'Catwoman'],\"toy\": [np.nan, 'Batmobile', 'Bullwhip'],\"born\": [pd.NaT, pd.Timestamp(\"1940-04-25\")pd.NaT]})\u001b[0m\n\u001b[1;37m                                                                                                                                                     ^\u001b[0m\n\u001b[1;31mSyntaxError\u001b[0m\u001b[1;31m:\u001b[0m invalid syntax\n"
     ]
    }
   ],
   "source": [
    "df = pd.DataFrame({\"name\": ['Alfred', 'Batman', 'Catwoman'],\"toy\": [np.nan, 'Batmobile', 'Bullwhip'],\"born\": [pd.NaT, pd.Timestamp(\"1940-04-25\")pd.NaT]})\n",
    "df"
   ]
  },
  {
   "cell_type": "code",
   "execution_count": 31,
   "metadata": {},
   "outputs": [
    {
     "name": "stdout",
     "output_type": "stream",
     "text": [
      "   one  two  three\n",
      "a  0.0  1.0    2.0\n",
      "b  NaN  NaN    NaN\n",
      "c  3.0  4.0    5.0\n",
      "e  6.0  7.0    8.0\n",
      "NaN replaced with '0':\n",
      "   one  two  three\n",
      "a  0.0  1.0    2.0\n",
      "b  0.0  0.0    0.0\n",
      "c  3.0  4.0    5.0\n",
      "e  6.0  7.0    8.0\n"
     ]
    },
    {
     "data": {
      "text/html": [
       "<div>\n",
       "<style scoped>\n",
       "    .dataframe tbody tr th:only-of-type {\n",
       "        vertical-align: middle;\n",
       "    }\n",
       "\n",
       "    .dataframe tbody tr th {\n",
       "        vertical-align: top;\n",
       "    }\n",
       "\n",
       "    .dataframe thead th {\n",
       "        text-align: right;\n",
       "    }\n",
       "</style>\n",
       "<table border=\"1\" class=\"dataframe\">\n",
       "  <thead>\n",
       "    <tr style=\"text-align: right;\">\n",
       "      <th></th>\n",
       "      <th>one</th>\n",
       "      <th>two</th>\n",
       "      <th>three</th>\n",
       "    </tr>\n",
       "  </thead>\n",
       "  <tbody>\n",
       "    <tr>\n",
       "      <th>a</th>\n",
       "      <td>0.0</td>\n",
       "      <td>1.0</td>\n",
       "      <td>2.0</td>\n",
       "    </tr>\n",
       "    <tr>\n",
       "      <th>b</th>\n",
       "      <td>NaN</td>\n",
       "      <td>NaN</td>\n",
       "      <td>NaN</td>\n",
       "    </tr>\n",
       "    <tr>\n",
       "      <th>c</th>\n",
       "      <td>3.0</td>\n",
       "      <td>4.0</td>\n",
       "      <td>5.0</td>\n",
       "    </tr>\n",
       "    <tr>\n",
       "      <th>e</th>\n",
       "      <td>6.0</td>\n",
       "      <td>7.0</td>\n",
       "      <td>8.0</td>\n",
       "    </tr>\n",
       "  </tbody>\n",
       "</table>\n",
       "</div>"
      ],
      "text/plain": [
       "   one  two  three\n",
       "a  0.0  1.0    2.0\n",
       "b  NaN  NaN    NaN\n",
       "c  3.0  4.0    5.0\n",
       "e  6.0  7.0    8.0"
      ]
     },
     "execution_count": 31,
     "metadata": {},
     "output_type": "execute_result"
    }
   ],
   "source": [
    "df = pd.DataFrame(np.arange(9).reshape(3,3), index=['a', 'c', 'e'],columns=['one',\n",
    "'two', 'three'])\n",
    "df = df.reindex(['a', 'b', 'c','e'])\n",
    "print (df)\n",
    "print (\"NaN replaced with '0':\")\n",
    "print (df.fillna(0))\n",
    "df"
   ]
  },
  {
   "cell_type": "code",
   "execution_count": 35,
   "metadata": {},
   "outputs": [
    {
     "name": "stdout",
     "output_type": "stream",
     "text": [
      "    one   two  three\n",
      "a   0.0   1.0    2.0\n",
      "c   3.0   4.0    5.0\n",
      "e   6.0   7.0    8.0\n",
      "f   9.0  10.0   11.0\n",
      "h  12.0  13.0   14.0\n"
     ]
    }
   ],
   "source": [
    "df = pd.DataFrame(np.arange(15).reshape(5,3), index=['a', 'c', 'e', 'f','h'],columns=['one', 'two', 'three'])\n",
    "df\n",
    "df = df.reindex(['a', 'b', 'c', 'd', 'e', 'f', 'g', 'h'])\n",
    "print (df.dropna())\n"
   ]
  },
  {
   "cell_type": "code",
   "execution_count": 27,
   "metadata": {},
   "outputs": [
    {
     "name": "stdout",
     "output_type": "stream",
     "text": [
      "Empty DataFrame\n",
      "Columns: []\n",
      "Index: [a, b, c, d, e, f, g, h]\n"
     ]
    },
    {
     "data": {
      "text/html": [
       "<div>\n",
       "<style scoped>\n",
       "    .dataframe tbody tr th:only-of-type {\n",
       "        vertical-align: middle;\n",
       "    }\n",
       "\n",
       "    .dataframe tbody tr th {\n",
       "        vertical-align: top;\n",
       "    }\n",
       "\n",
       "    .dataframe thead th {\n",
       "        text-align: right;\n",
       "    }\n",
       "</style>\n",
       "<table border=\"1\" class=\"dataframe\">\n",
       "  <thead>\n",
       "    <tr style=\"text-align: right;\">\n",
       "      <th></th>\n",
       "      <th>one</th>\n",
       "      <th>two</th>\n",
       "      <th>three</th>\n",
       "    </tr>\n",
       "  </thead>\n",
       "  <tbody>\n",
       "    <tr>\n",
       "      <th>a</th>\n",
       "      <td>0.0</td>\n",
       "      <td>1.0</td>\n",
       "      <td>2.0</td>\n",
       "    </tr>\n",
       "    <tr>\n",
       "      <th>b</th>\n",
       "      <td>NaN</td>\n",
       "      <td>NaN</td>\n",
       "      <td>NaN</td>\n",
       "    </tr>\n",
       "    <tr>\n",
       "      <th>c</th>\n",
       "      <td>3.0</td>\n",
       "      <td>4.0</td>\n",
       "      <td>5.0</td>\n",
       "    </tr>\n",
       "    <tr>\n",
       "      <th>d</th>\n",
       "      <td>NaN</td>\n",
       "      <td>NaN</td>\n",
       "      <td>NaN</td>\n",
       "    </tr>\n",
       "    <tr>\n",
       "      <th>e</th>\n",
       "      <td>6.0</td>\n",
       "      <td>7.0</td>\n",
       "      <td>8.0</td>\n",
       "    </tr>\n",
       "    <tr>\n",
       "      <th>f</th>\n",
       "      <td>9.0</td>\n",
       "      <td>10.0</td>\n",
       "      <td>11.0</td>\n",
       "    </tr>\n",
       "    <tr>\n",
       "      <th>g</th>\n",
       "      <td>NaN</td>\n",
       "      <td>NaN</td>\n",
       "      <td>NaN</td>\n",
       "    </tr>\n",
       "    <tr>\n",
       "      <th>h</th>\n",
       "      <td>12.0</td>\n",
       "      <td>13.0</td>\n",
       "      <td>14.0</td>\n",
       "    </tr>\n",
       "  </tbody>\n",
       "</table>\n",
       "</div>"
      ],
      "text/plain": [
       "    one   two  three\n",
       "a   0.0   1.0    2.0\n",
       "b   NaN   NaN    NaN\n",
       "c   3.0   4.0    5.0\n",
       "d   NaN   NaN    NaN\n",
       "e   6.0   7.0    8.0\n",
       "f   9.0  10.0   11.0\n",
       "g   NaN   NaN    NaN\n",
       "h  12.0  13.0   14.0"
      ]
     },
     "execution_count": 27,
     "metadata": {},
     "output_type": "execute_result"
    }
   ],
   "source": [
    "df = pd.DataFrame(np.arange(15).reshape(5,3), index=['a', 'c', 'e', 'f','h'],columns=['one', 'two', 'three'])\n",
    "df = df.reindex(['a', 'b', 'c', 'd', 'e', 'f', 'g', 'h'])\n",
    "df\n",
    "print (df.dropna(axis=1))\n",
    "df"
   ]
  },
  {
   "cell_type": "code",
   "execution_count": null,
   "metadata": {},
   "outputs": [],
   "source": [
    "df.dropna()"
   ]
  },
  {
   "cell_type": "code",
   "execution_count": null,
   "metadata": {},
   "outputs": [],
   "source": [
    "\n",
    "examples:\n",
    "\n",
    " \t   \t      \n",
    " \t\t\t       name        toy       born\n",
    " \t\t\t0    Alfred        NaN        NaT\n",
    " \t\t\t1    Batman  Batmobile 1940-04-25\n",
    " \t\t\t2  Catwoman   Bullwhip        NaT\n",
    " \t\t\t\n",
    " \t\t\t# Drop the rows where at least one element is missing.\n",
    " \t\t\t>>> df.dropna()\n",
    " \t\t\t     name        toy       born\n",
    " \t\t\t1  Batman  Batmobile 1940-04-25\n",
    " \t\t\t\n",
    " \t\t\t# Drop the columns where at least one element is missing.\n",
    " \t\t\t>>> df.dropna(axis='columns')\n",
    " \t\t\t       name\n",
    " \t\t\t0    Alfred\n",
    " \t\t\t1    Batman\n",
    " \t\t\t2  Catwoman\n",
    " \t\t\t\n",
    " \t\t\t# Drop the rows where all elements are missing.\n",
    " \t\t\t>>> df.dropna(how='all')\n",
    " \t\t\t       name        toy       born\n",
    " \t\t\t0    Alfred        NaN        NaT\n",
    " \t\t\t1    Batman  Batmobile 1940-04-25\n",
    " \t\t\t2  Catwoman   Bullwhip        NaT\n",
    " \t\t\t\n",
    " \t\t\t# Keep only the rows with at least 2 non-NA values.\n",
    " \t\t\t>>> df.dropna(thresh=2)\n",
    " \t\t\t       name        toy       born\n",
    " \t\t\t1    Batman  Batmobile 1940-04-25\n",
    " \t\t\t2  Catwoman   Bullwhip        NaT\n",
    " \t\t\t\n",
    " \t\t\t# Define in which columns to look for missing values.\n",
    " \t\t\t>>> df.dropna(subset=['name', 'born'])\n",
    " \t\t\t       name        toy       born\n",
    " \t\t\t1    Batman  Batmobile 1940-04-25\n",
    " \t\t\t\n",
    " \t\t\t# Keep the DataFrame with valid entries in the same variable.\t\n",
    " \t\t\t>>> df.dropna(inplace=True)\n",
    " \t\t\t>>> df\n",
    " \t\t\t     name        toy       born\n",
    " \t\t\t1  Batman  Batmobile 1940-04-25"
   ]
  },
  {
   "cell_type": "code",
   "execution_count": null,
   "metadata": {},
   "outputs": [],
   "source": [
    "对于option 2:\n",
    "可以使用dropna 或者drop函数\n",
    "DataFrame.drop(labels=None, axis=0, index=None, columns=None, level=None, inplace=False, errors='raise')\n",
    "\n",
    "labels: 要删除行或列的列表\n",
    "axis: 0 行 ；1 列\n",
    "\tdf = pd.DataFrame(np.arange(12).reshape(3,4),                 \n",
    "\t                  columns=['A', 'B', 'C', 'D'])\n",
    "\t\n",
    "\t>>>df\n",
    "\t   \t   A  B   C   D\n",
    "\t\t0  0  1   2   3\n",
    "\t\t1  4  5   6   7\n",
    "\t\t2  8  9  10  11\n",
    "\n",
    "\t# 删除列\n",
    "\t>>> df.drop(['B', 'C'], axis=1)\n",
    "\t   A   D\n",
    "\t0  0   3\n",
    "\t1  4   7\n",
    "\t2  8  11\n",
    "\t>>> df.drop(columns=['B', 'C'])\n",
    "\t   A   D\n",
    "\t0  0   3\n",
    "\t1  4   7\n",
    "\t2  8  11\n",
    "\t\n",
    "\t# 删除行（索引）\n",
    "\t>>> df.drop([0, 1])\n",
    "\t   A  B   C   D\n",
    "\t2  8  9  10  11\n"
   ]
  },
  {
   "cell_type": "code",
   "execution_count": null,
   "metadata": {},
   "outputs": [],
   "source": [
    "对于option3\n",
    "使用DataFrame.fillna(value=None, method=None, axis=None, inplace=False, limit=None, downcast=None, **kwargs)\n",
    "\n",
    "value: scalar, dict, Series, or DataFrame\n",
    "dict 可以指定每一行或列用什么值填充\n",
    "method： {‘backfill’, ‘bfill’, ‘pad’, ‘ffill’, None}, default None\n",
    "在列上操作\n",
    "ffill / pad: 使用前一个值来填充缺失值\n",
    "backfill / bfill :使用后一个值来填充缺失值\n",
    "limit 填充的缺失值个数限制。应该不怎么用\n",
    "f = pd.DataFrame([[np.nan, 2, np.nan, 0],\n",
    "                   [3, 4, np.nan, 1],\n",
    "                   [np.nan, np.nan, np.nan, 5],\n",
    "                   [np.nan, 3, np.nan, 4]],\n",
    "                   columns=list('ABCD'))\n",
    " >>> df\n",
    "     A    B   C  D\n",
    "0  NaN  2.0 NaN  0\n",
    "1  3.0  4.0 NaN  1\n",
    "2  NaN  NaN NaN  5\n",
    "3  NaN  3.0 NaN  4\n",
    "\n",
    "# 使用0代替所有的缺失值\n",
    ">>> df.fillna(0)\n",
    "    A   B   C   D\n",
    "0   0.0 2.0 0.0 0\n",
    "1   3.0 4.0 0.0 1\n",
    "2   0.0 0.0 0.0 5\n",
    "3   0.0 3.0 0.0 4\n",
    "\n",
    "# 使用后边或前边的值填充缺失值\n",
    ">>> df.fillna(method='ffill')\n",
    "    A   B   C   D\n",
    "0   NaN 2.0 NaN 0\n",
    "1   3.0 4.0 NaN 1\n",
    "2   3.0 4.0 NaN 5\n",
    "3   3.0 3.0 NaN 4\n",
    "\n",
    ">>>df.fillna(method='bfill')\n",
    "     A\tB\tC\tD\n",
    "0\t3.0\t2.0\tNaN\t0\n",
    "1\t3.0\t4.0\tNaN\t1\n",
    "2\tNaN\t3.0\tNaN\t5\n",
    "3\tNaN\t3.0\tNaN\t4\n",
    "\n",
    "# Replace all NaN elements in column ‘A’, ‘B’, ‘C’, and ‘D’, with 0, 1, 2, and 3 respectively.\n",
    "# 每一列使用不同的缺失值\n",
    ">>> values = {'A': 0, 'B': 1, 'C': 2, 'D': 3}\n",
    ">>> df.fillna(value=values)\n",
    "    A   B   C   D\n",
    "0   0.0 2.0 2.0 0\n",
    "1   3.0 4.0 2.0 1\n",
    "2   0.0 1.0 2.0 5\n",
    "3   0.0 3.0 2.0 4\n",
    "\n",
    "#只替换第一个缺失值\n",
    " >>>df.fillna(value=values, limit=1)\n",
    "    A   B   C   D\n",
    "0   0.0 2.0 2.0 0\n",
    "1   3.0 4.0 NaN 1\n",
    "2   NaN 1.0 NaN 5\n",
    "3   NaN 3.0 NaN 4\n"
   ]
  },
  {
   "cell_type": "code",
   "execution_count": null,
   "metadata": {},
   "outputs": [],
   "source": [
    "房价分析：\n",
    "在此问题中，只有bedroom一列有缺失值，按照此三种方法处理代码为：\n",
    "\n",
    "# option 1 将含有缺失值的行去掉\n",
    "housing.dropna(subset=[\"total_bedrooms\"])  \n",
    "\n",
    "# option 2 将\"total_bedrooms\"这一列从数据中去掉\n",
    "housing.drop(\"total_bedrooms\", axis=1)  \n",
    "\n",
    " # option 3 使用\"total_bedrooms\"的中值填充缺失值\n",
    "median = housing[\"total_bedrooms\"].median()\n",
    "housing[\"total_bedrooms\"].fillna(median) \n",
    " "
   ]
  },
  {
   "cell_type": "code",
   "execution_count": null,
   "metadata": {},
   "outputs": [],
   "source": []
  },
  {
   "cell_type": "code",
   "execution_count": null,
   "metadata": {},
   "outputs": [],
   "source": []
  },
  {
   "cell_type": "code",
   "execution_count": null,
   "metadata": {},
   "outputs": [],
   "source": []
  },
  {
   "cell_type": "code",
   "execution_count": null,
   "metadata": {},
   "outputs": [],
   "source": []
  },
  {
   "cell_type": "code",
   "execution_count": null,
   "metadata": {},
   "outputs": [],
   "source": []
  },
  {
   "cell_type": "code",
   "execution_count": null,
   "metadata": {},
   "outputs": [],
   "source": []
  },
  {
   "cell_type": "code",
   "execution_count": null,
   "metadata": {},
   "outputs": [],
   "source": []
  },
  {
   "cell_type": "code",
   "execution_count": null,
   "metadata": {},
   "outputs": [],
   "source": []
  },
  {
   "cell_type": "code",
   "execution_count": null,
   "metadata": {},
   "outputs": [],
   "source": []
  }
 ],
 "metadata": {
  "kernelspec": {
   "display_name": "Python 3",
   "language": "python",
   "name": "python3"
  },
  "language_info": {
   "codemirror_mode": {
    "name": "ipython",
    "version": 3
   },
   "file_extension": ".py",
   "mimetype": "text/x-python",
   "name": "python",
   "nbconvert_exporter": "python",
   "pygments_lexer": "ipython3",
   "version": "3.7.3"
  },
  "toc": {
   "base_numbering": 1,
   "nav_menu": {},
   "number_sections": true,
   "sideBar": true,
   "skip_h1_title": true,
   "title_cell": "Table of Contents",
   "title_sidebar": "Contents",
   "toc_cell": true,
   "toc_position": {},
   "toc_section_display": true,
   "toc_window_display": true
  }
 },
 "nbformat": 4,
 "nbformat_minor": 2
}
